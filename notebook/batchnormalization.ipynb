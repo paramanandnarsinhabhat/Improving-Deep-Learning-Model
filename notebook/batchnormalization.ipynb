{
 "cells": [
  {
   "cell_type": "code",
   "execution_count": 1,
   "id": "97b9b9d7-026f-4ddd-ac57-a47e90507fcd",
   "metadata": {},
   "outputs": [
    {
     "data": {
      "text/plain": [
       "'\\n<ol>1. Loading the dataset</ol>\\n<ol>2. Pre-processing the data</ol>\\n<ol>3. Creating training and validation set</ol>\\n<ol>4. Defining the model architecture</ol>\\n<ol> <ol>* Adding batch normalization layer(s) </ol></ol>\\n<ol>5. Compiling the model</ol>\\n<ol>6. Training the model</ol>\\n<ol>7. Evaluating model performance</ol>\\n'"
      ]
     },
     "execution_count": 1,
     "metadata": {},
     "output_type": "execute_result"
    }
   ],
   "source": [
    "# Steps to solve Emergency vs Non-Emergency vehicle classification problem using Batch Normalization\n",
    "\n",
    "'''\n",
    "<ol>1. Loading the dataset</ol>\n",
    "<ol>2. Pre-processing the data</ol>\n",
    "<ol>3. Creating training and validation set</ol>\n",
    "<ol>4. Defining the model architecture</ol>\n",
    "<ol> <ol>* Adding batch normalization layer(s) </ol></ol>\n",
    "<ol>5. Compiling the model</ol>\n",
    "<ol>6. Training the model</ol>\n",
    "<ol>7. Evaluating model performance</ol>\n",
    "'''"
   ]
  },
  {
   "cell_type": "code",
   "execution_count": 2,
   "id": "ec4dce0c-b19d-4033-8d45-21a63d0e9328",
   "metadata": {},
   "outputs": [],
   "source": [
    "## 1. Loading the dataset\n",
    "# import necessary libraries and functions\n",
    "import numpy as np\n",
    "import pandas as pd\n",
    "import matplotlib.pyplot as plt\n",
    "\n",
    "\n",
    "# importing layers from keras\n",
    "from keras.layers import Dense, InputLayer\n",
    "from keras.models import Sequential\n",
    "# importing adam optimizer from keras optimizer module \n",
    "from keras.optimizers import Adam\n",
    "\n",
    "# train_test_split to create training and validation set\n",
    "from sklearn.model_selection import train_test_split\n",
    "# accuracy_score to calculate the accuracy of predictions\n",
    "from sklearn.metrics import accuracy_score\n"
   ]
  },
  {
   "cell_type": "code",
   "execution_count": 3,
   "id": "11087c75-517d-4563-bfec-806ed4f8abcc",
   "metadata": {},
   "outputs": [
    {
     "name": "stdout",
     "output_type": "stream",
     "text": [
      "(2352, 150528)\n",
      "0.0 1.0\n"
     ]
    }
   ],
   "source": [
    "# reading the csv file\n",
    "data = pd.read_csv('../data/Dataset/emergency_classification.csv')\n",
    "\n",
    "# create random number generator\n",
    "seed = 42\n",
    "\n",
    "# load images and store it in numpy array\n",
    "\n",
    "# empty list to store the images\n",
    "X = []\n",
    "# iterating over each image\n",
    "for img_name in data.image_names:\n",
    "    # loading the image using its name\n",
    "    img = plt.imread('../data/Dataset/images/' + img_name)\n",
    "    # saving each image in the list\n",
    "    X.append(img)\n",
    "    \n",
    "# converting the list of images into array\n",
    "X=np.array(X)\n",
    "\n",
    "# storing the target variable in separate variable\n",
    "y = data.emergency_or_not.values\n",
    "\n",
    "## 2. Pre-processing the data\n",
    "# converting 3 dimensional image to 1 dimensional image\n",
    "X = X.reshape(X.shape[0], 224*224*3)\n",
    "\n",
    "print(X.shape)\n",
    "# normalizing the pixel values\n",
    "X = X / X.max()\n",
    "\n",
    "# minimum and maximum pixel values of images after normalizing\n",
    "X.min(), X.max()\n",
    "\n",
    "print(X.min(), X.max())\n"
   ]
  },
  {
   "cell_type": "code",
   "execution_count": 4,
   "id": "dafa3346-eb05-48d6-8467-2fab846db8fb",
   "metadata": {},
   "outputs": [
    {
     "name": "stdout",
     "output_type": "stream",
     "text": [
      "((1646, 150528), (1646,)) ((706, 150528), (706,))\n"
     ]
    }
   ],
   "source": [
    "## 3. Creating training and validation set\n",
    "# creating a training and validation set\n",
    "X_train, X_valid, y_train, y_valid=train_test_split(X,y,test_size=0.3, random_state=seed)\n",
    "\n",
    "# shape of training and validation set\n",
    "(X_train.shape, y_train.shape), (X_valid.shape, y_valid.shape)\n",
    "\n",
    "print((X_train.shape, y_train.shape), (X_valid.shape, y_valid.shape))\n"
   ]
  },
  {
   "cell_type": "code",
   "execution_count": 5,
   "id": "b5fbe8d3-f897-43af-b137-0e54cbb947d9",
   "metadata": {},
   "outputs": [
    {
     "name": "stdout",
     "output_type": "stream",
     "text": [
      "Model: \"sequential\"\n",
      "_________________________________________________________________\n",
      " Layer (type)                Output Shape              Param #   \n",
      "=================================================================\n",
      " dense (Dense)               (None, 100)               15052900  \n",
      "                                                                 \n",
      " dense_1 (Dense)             (None, 100)               10100     \n",
      "                                                                 \n",
      " dense_2 (Dense)             (None, 1)                 101       \n",
      "                                                                 \n",
      "=================================================================\n",
      "Total params: 15063101 (57.46 MB)\n",
      "Trainable params: 15063101 (57.46 MB)\n",
      "Non-trainable params: 0 (0.00 Byte)\n",
      "_________________________________________________________________\n"
     ]
    },
    {
     "name": "stderr",
     "output_type": "stream",
     "text": [
      "2024-02-04 14:41:51.210035: I metal_plugin/src/device/metal_device.cc:1154] Metal device set to: Apple M1\n",
      "2024-02-04 14:41:51.210057: I metal_plugin/src/device/metal_device.cc:296] systemMemory: 16.00 GB\n",
      "2024-02-04 14:41:51.210065: I metal_plugin/src/device/metal_device.cc:313] maxCacheSize: 5.33 GB\n",
      "2024-02-04 14:41:51.210094: I tensorflow/core/common_runtime/pluggable_device/pluggable_device_factory.cc:306] Could not identify NUMA node of platform GPU ID 0, defaulting to 0. Your kernel may not have been built with NUMA support.\n",
      "2024-02-04 14:41:51.210115: I tensorflow/core/common_runtime/pluggable_device/pluggable_device_factory.cc:272] Created TensorFlow device (/job:localhost/replica:0/task:0/device:GPU:0 with 0 MB memory) -> physical PluggableDevice (device: 0, name: METAL, pci bus id: <undefined>)\n"
     ]
    }
   ],
   "source": [
    "## 4. Defining the model architecture\n",
    "\n",
    "### <ol>Without Batch Normalization</ol>\n",
    "\n",
    "# defining the model architecture\n",
    "model=Sequential()\n",
    "\n",
    "model.add(InputLayer(input_shape=(224*224*3,)))\n",
    "model.add(Dense(100, activation='sigmoid'))\n",
    "model.add(Dense(100, activation='sigmoid'))\n",
    "model.add(Dense(units=1, activation='sigmoid'))\n",
    "\n",
    "model.summary()\n",
    "\n"
   ]
  },
  {
   "cell_type": "code",
   "execution_count": 6,
   "id": "4bc22a82-256b-4de0-8935-975b67427eed",
   "metadata": {},
   "outputs": [
    {
     "name": "stderr",
     "output_type": "stream",
     "text": [
      "WARNING:absl:At this time, the v2.11+ optimizer `tf.keras.optimizers.Adam` runs slowly on M1/M2 Macs, please use the legacy Keras optimizer instead, located at `tf.keras.optimizers.legacy.Adam`.\n"
     ]
    }
   ],
   "source": [
    "## 5. Compiling the model\n",
    "# defining the adam optimizer and setting the learning rate as 10^-5\n",
    "adam = Adam(learning_rate=1e-5)\n",
    "\n",
    "# compiling the model\n",
    "\n",
    "# defining loss as binary crossentropy\n",
    "# defining optimizer as Adam\n",
    "# defining metrics as accuracy\n",
    "\n",
    "model.compile(loss='binary_crossentropy', optimizer=adam, metrics=['accuracy'])\n",
    "\n"
   ]
  },
  {
   "cell_type": "code",
   "execution_count": 7,
   "id": "504ff1b8-1023-494b-8165-4a69599590f2",
   "metadata": {},
   "outputs": [
    {
     "name": "stdout",
     "output_type": "stream",
     "text": [
      "Epoch 1/50\n"
     ]
    },
    {
     "name": "stderr",
     "output_type": "stream",
     "text": [
      "2024-02-04 14:41:54.042333: I tensorflow/core/grappler/optimizers/custom_graph_optimizer_registry.cc:117] Plugin optimizer for device_type GPU is enabled.\n",
      "2024-02-04 14:41:54.072354: E tensorflow/core/grappler/optimizers/meta_optimizer.cc:961] model_pruner failed: INVALID_ARGUMENT: Graph does not contain terminal node Adam/AssignAddVariableOp.\n"
     ]
    },
    {
     "name": "stdout",
     "output_type": "stream",
     "text": [
      "13/13 [==============================] - 3s 173ms/step - loss: 0.6605 - accuracy: 0.5996 - val_loss: 0.6447 - val_accuracy: 0.6133\n",
      "Epoch 2/50\n",
      "13/13 [==============================] - 1s 80ms/step - loss: 0.6326 - accuracy: 0.6440 - val_loss: 0.6337 - val_accuracy: 0.6402\n",
      "Epoch 3/50\n",
      "13/13 [==============================] - 1s 73ms/step - loss: 0.6178 - accuracy: 0.6707 - val_loss: 0.6173 - val_accuracy: 0.6657\n",
      "Epoch 4/50\n",
      "13/13 [==============================] - 1s 76ms/step - loss: 0.6064 - accuracy: 0.6938 - val_loss: 0.6114 - val_accuracy: 0.6686\n",
      "Epoch 5/50\n",
      "13/13 [==============================] - 1s 74ms/step - loss: 0.6011 - accuracy: 0.6993 - val_loss: 0.6161 - val_accuracy: 0.6657\n",
      "Epoch 6/50\n",
      "13/13 [==============================] - 1s 75ms/step - loss: 0.5899 - accuracy: 0.7145 - val_loss: 0.5987 - val_accuracy: 0.6813\n",
      "Epoch 7/50\n",
      "13/13 [==============================] - 1s 73ms/step - loss: 0.5840 - accuracy: 0.7278 - val_loss: 0.5977 - val_accuracy: 0.6756\n",
      "Epoch 8/50\n",
      "13/13 [==============================] - 1s 75ms/step - loss: 0.5783 - accuracy: 0.7230 - val_loss: 0.5902 - val_accuracy: 0.6969\n",
      "Epoch 9/50\n",
      "13/13 [==============================] - 1s 73ms/step - loss: 0.5746 - accuracy: 0.7339 - val_loss: 0.5879 - val_accuracy: 0.6912\n",
      "Epoch 10/50\n",
      "13/13 [==============================] - 1s 72ms/step - loss: 0.5672 - accuracy: 0.7400 - val_loss: 0.5889 - val_accuracy: 0.6955\n",
      "Epoch 11/50\n",
      "13/13 [==============================] - 1s 73ms/step - loss: 0.5631 - accuracy: 0.7454 - val_loss: 0.5838 - val_accuracy: 0.6841\n",
      "Epoch 12/50\n",
      "13/13 [==============================] - 1s 73ms/step - loss: 0.5588 - accuracy: 0.7473 - val_loss: 0.5830 - val_accuracy: 0.6997\n",
      "Epoch 13/50\n",
      "13/13 [==============================] - 1s 72ms/step - loss: 0.5546 - accuracy: 0.7539 - val_loss: 0.5820 - val_accuracy: 0.6997\n",
      "Epoch 14/50\n",
      "13/13 [==============================] - 1s 72ms/step - loss: 0.5508 - accuracy: 0.7576 - val_loss: 0.5797 - val_accuracy: 0.6997\n",
      "Epoch 15/50\n",
      "13/13 [==============================] - 1s 73ms/step - loss: 0.5470 - accuracy: 0.7606 - val_loss: 0.5738 - val_accuracy: 0.7025\n",
      "Epoch 16/50\n",
      "13/13 [==============================] - 1s 73ms/step - loss: 0.5427 - accuracy: 0.7612 - val_loss: 0.5777 - val_accuracy: 0.7011\n",
      "Epoch 17/50\n",
      "13/13 [==============================] - 1s 72ms/step - loss: 0.5388 - accuracy: 0.7594 - val_loss: 0.5714 - val_accuracy: 0.7011\n",
      "Epoch 18/50\n",
      "13/13 [==============================] - 1s 73ms/step - loss: 0.5355 - accuracy: 0.7618 - val_loss: 0.5734 - val_accuracy: 0.7096\n",
      "Epoch 19/50\n",
      "13/13 [==============================] - 1s 72ms/step - loss: 0.5314 - accuracy: 0.7746 - val_loss: 0.5746 - val_accuracy: 0.6983\n",
      "Epoch 20/50\n",
      "13/13 [==============================] - 1s 72ms/step - loss: 0.5291 - accuracy: 0.7649 - val_loss: 0.5669 - val_accuracy: 0.7011\n",
      "Epoch 21/50\n",
      "13/13 [==============================] - 1s 72ms/step - loss: 0.5247 - accuracy: 0.7764 - val_loss: 0.5765 - val_accuracy: 0.7011\n",
      "Epoch 22/50\n",
      "13/13 [==============================] - 1s 72ms/step - loss: 0.5234 - accuracy: 0.7679 - val_loss: 0.5699 - val_accuracy: 0.7011\n",
      "Epoch 23/50\n",
      "13/13 [==============================] - 1s 72ms/step - loss: 0.5202 - accuracy: 0.7704 - val_loss: 0.5634 - val_accuracy: 0.7068\n",
      "Epoch 24/50\n",
      "13/13 [==============================] - 1s 72ms/step - loss: 0.5152 - accuracy: 0.7764 - val_loss: 0.5633 - val_accuracy: 0.7054\n",
      "Epoch 25/50\n",
      "13/13 [==============================] - 1s 72ms/step - loss: 0.5125 - accuracy: 0.7843 - val_loss: 0.5618 - val_accuracy: 0.7068\n",
      "Epoch 26/50\n",
      "13/13 [==============================] - 1s 72ms/step - loss: 0.5100 - accuracy: 0.7831 - val_loss: 0.5600 - val_accuracy: 0.7125\n",
      "Epoch 27/50\n",
      "13/13 [==============================] - 1s 73ms/step - loss: 0.5095 - accuracy: 0.7783 - val_loss: 0.5596 - val_accuracy: 0.7082\n",
      "Epoch 28/50\n",
      "13/13 [==============================] - 1s 72ms/step - loss: 0.5052 - accuracy: 0.7795 - val_loss: 0.5600 - val_accuracy: 0.7068\n",
      "Epoch 29/50\n",
      "13/13 [==============================] - 1s 72ms/step - loss: 0.5019 - accuracy: 0.7874 - val_loss: 0.5594 - val_accuracy: 0.7082\n",
      "Epoch 30/50\n",
      "13/13 [==============================] - 1s 73ms/step - loss: 0.5027 - accuracy: 0.7886 - val_loss: 0.5578 - val_accuracy: 0.7068\n",
      "Epoch 31/50\n",
      "13/13 [==============================] - 1s 73ms/step - loss: 0.4954 - accuracy: 0.8007 - val_loss: 0.5646 - val_accuracy: 0.7068\n",
      "Epoch 32/50\n",
      "13/13 [==============================] - 1s 73ms/step - loss: 0.4943 - accuracy: 0.7977 - val_loss: 0.5621 - val_accuracy: 0.7125\n",
      "Epoch 33/50\n",
      "13/13 [==============================] - 1s 72ms/step - loss: 0.4878 - accuracy: 0.7983 - val_loss: 0.5550 - val_accuracy: 0.7110\n",
      "Epoch 34/50\n",
      "13/13 [==============================] - 1s 73ms/step - loss: 0.4861 - accuracy: 0.8056 - val_loss: 0.5620 - val_accuracy: 0.7167\n",
      "Epoch 35/50\n",
      "13/13 [==============================] - 1s 73ms/step - loss: 0.4821 - accuracy: 0.8074 - val_loss: 0.5625 - val_accuracy: 0.7167\n",
      "Epoch 36/50\n",
      "13/13 [==============================] - 1s 73ms/step - loss: 0.4804 - accuracy: 0.8080 - val_loss: 0.5556 - val_accuracy: 0.7139\n",
      "Epoch 37/50\n",
      "13/13 [==============================] - 1s 73ms/step - loss: 0.4759 - accuracy: 0.8056 - val_loss: 0.5540 - val_accuracy: 0.7125\n",
      "Epoch 38/50\n",
      "13/13 [==============================] - 1s 73ms/step - loss: 0.4735 - accuracy: 0.8098 - val_loss: 0.5628 - val_accuracy: 0.7110\n",
      "Epoch 39/50\n",
      "13/13 [==============================] - 1s 72ms/step - loss: 0.4760 - accuracy: 0.8068 - val_loss: 0.5576 - val_accuracy: 0.7153\n",
      "Epoch 40/50\n",
      "13/13 [==============================] - 1s 73ms/step - loss: 0.4687 - accuracy: 0.8159 - val_loss: 0.5555 - val_accuracy: 0.7125\n",
      "Epoch 41/50\n",
      "13/13 [==============================] - 1s 73ms/step - loss: 0.4649 - accuracy: 0.8214 - val_loss: 0.5559 - val_accuracy: 0.7167\n",
      "Epoch 42/50\n",
      "13/13 [==============================] - 1s 75ms/step - loss: 0.4625 - accuracy: 0.8262 - val_loss: 0.5575 - val_accuracy: 0.7181\n",
      "Epoch 43/50\n",
      "13/13 [==============================] - 1s 73ms/step - loss: 0.4592 - accuracy: 0.8244 - val_loss: 0.5656 - val_accuracy: 0.7025\n",
      "Epoch 44/50\n",
      "13/13 [==============================] - 1s 73ms/step - loss: 0.4576 - accuracy: 0.8238 - val_loss: 0.5538 - val_accuracy: 0.7125\n",
      "Epoch 45/50\n",
      "13/13 [==============================] - 1s 73ms/step - loss: 0.4525 - accuracy: 0.8354 - val_loss: 0.5552 - val_accuracy: 0.7139\n",
      "Epoch 46/50\n",
      "13/13 [==============================] - 1s 73ms/step - loss: 0.4515 - accuracy: 0.8317 - val_loss: 0.5617 - val_accuracy: 0.7040\n",
      "Epoch 47/50\n",
      "13/13 [==============================] - 1s 73ms/step - loss: 0.4501 - accuracy: 0.8256 - val_loss: 0.5576 - val_accuracy: 0.7096\n",
      "Epoch 48/50\n",
      "13/13 [==============================] - 1s 73ms/step - loss: 0.4432 - accuracy: 0.8348 - val_loss: 0.5440 - val_accuracy: 0.7139\n",
      "Epoch 49/50\n",
      "13/13 [==============================] - 1s 72ms/step - loss: 0.4433 - accuracy: 0.8329 - val_loss: 0.5434 - val_accuracy: 0.7139\n",
      "Epoch 50/50\n",
      "13/13 [==============================] - 1s 71ms/step - loss: 0.4392 - accuracy: 0.8384 - val_loss: 0.5518 - val_accuracy: 0.7139\n",
      "23/23 [==============================] - 0s 16ms/step\n",
      "Accuracy on validation set: 71.38810198300283 %\n"
     ]
    },
    {
     "data": {
      "image/png": "[encoded data removed]",
      "text/plain": [
       "<Figure size 640x480 with 1 Axes>"
      ]
     },
     "metadata": {},
     "output_type": "display_data"
    }
   ],
   "source": [
    "\n",
    "## 6. Training the model\n",
    "# training the model for 50 epochs\n",
    "\n",
    "model_history = model.fit(X_train, y_train, epochs=50, batch_size=128,validation_data=(X_valid,y_valid))\n",
    "\n",
    "## 7. Evaluating model performance \n",
    "\n",
    "from sklearn.metrics import accuracy_score\n",
    "\n",
    "# Use the model.predict method to get the predicted probabilities\n",
    "predicted_probabilities = model.predict(X_valid)\n",
    "\n",
    "# Convert probabilities to class labels; assume binary classification with a threshold of 0.5\n",
    "predicted_labels = (predicted_probabilities > 0.5).astype('int32')\n",
    "\n",
    "# Calculate accuracy on the validation set\n",
    "accuracy = accuracy_score(y_valid, predicted_labels)\n",
    "print('Accuracy on validation set:', accuracy * 100, '%')\n",
    "\n",
    "# summarize history for loss\n",
    "plt.plot(model_history.history['loss'])\n",
    "plt.plot(model_history.history['val_loss'])\n",
    "plt.title('model loss')\n",
    "plt.ylabel('loss')\n",
    "plt.xlabel('epoch')\n",
    "plt.legend(['train', 'validation'], loc='upper right')\n",
    "plt.show()"
   ]
  },
  {
   "cell_type": "code",
   "execution_count": null,
   "id": "1edb627a-cb24-4f0c-87c5-6b0180d5f00c",
   "metadata": {},
   "outputs": [
    {
     "name": "stdout",
     "output_type": "stream",
     "text": [
      "Model: \"sequential_1\"\n",
      "_________________________________________________________________\n",
      " Layer (type)                Output Shape              Param #   \n",
      "=================================================================\n",
      " dense_3 (Dense)             (None, 100)               15052900  \n",
      "                                                                 \n",
      " dense_4 (Dense)             (None, 100)               10100     \n",
      "                                                                 \n",
      " batch_normalization (Batch  (None, 100)               400       \n",
      " Normalization)                                                  \n",
      "                                                                 \n",
      " dense_5 (Dense)             (None, 1)                 101       \n",
      "                                                                 \n",
      "=================================================================\n",
      "Total params: 15063501 (57.46 MB)\n",
      "Trainable params: 15063301 (57.46 MB)\n",
      "Non-trainable params: 200 (800.00 Byte)\n",
      "_________________________________________________________________\n"
     ]
    },
    {
     "name": "stderr",
     "output_type": "stream",
     "text": [
      "WARNING:absl:At this time, the v2.11+ optimizer `tf.keras.optimizers.Adam` runs slowly on M1/M2 Macs, please use the legacy Keras optimizer instead, located at `tf.keras.optimizers.legacy.Adam`.\n"
     ]
    },
    {
     "name": "stdout",
     "output_type": "stream",
     "text": [
      "Epoch 1/200\n"
     ]
    }
   ],
   "source": [
    "## Defining the model architecture\n",
    "\n",
    "### <ol>With Batch Normalization</ol>\n",
    "\n",
    "# importing batch normalization layer\n",
    "from keras.layers import BatchNormalization\n",
    "# defining the model architecture and adding batch normalization layers\n",
    "model=Sequential()\n",
    "\n",
    "model.add(InputLayer(input_shape=(224*224*3,)))\n",
    "model.add(Dense(100, activation='sigmoid'))\n",
    "model.add(Dense(100, activation='sigmoid'))\n",
    "model.add(BatchNormalization())\n",
    "model.add(Dense(units=1, activation='sigmoid'))\n",
    "\n",
    "model.summary()\n",
    "\n",
    "## Compiling the model\n",
    "# compiling the model\n",
    "\n",
    "# defining loss as binary crossentropy\n",
    "# defining optimizer as Adam\n",
    "# defining metrics as accuracy\n",
    "\n",
    "model.compile(loss='binary_crossentropy', optimizer=Adam(), metrics=['accuracy'])\n",
    "\n",
    "## Training the model\n",
    "# training the model for 50 epochs using Batch Normalization\n",
    "\n",
    "model_history = model.fit(X_train, y_train, epochs=200, batch_size=128,validation_data=(X_valid,y_valid))\n",
    "\n",
    "## 7. Evaluating model performance \n",
    "\n",
    "from sklearn.metrics import accuracy_score\n",
    "\n",
    "# Use the model.predict method to get the predicted probabilities\n",
    "predicted_probabilities = model.predict(X_valid)\n",
    "\n",
    "# Convert probabilities to class labels; assume binary classification with a threshold of 0.5\n",
    "predicted_labels = (predicted_probabilities > 0.5).astype('int32')\n",
    "\n",
    "# Calculate accuracy on the validation set\n",
    "accuracy = accuracy_score(y_valid, predicted_labels)\n",
    "print('Accuracy on validation set:', accuracy * 100, '%')\n"
   ]
  },
  {
   "cell_type": "code",
   "execution_count": null,
   "id": "e340ad15-203b-4c3a-91f1-382935a424d8",
   "metadata": {},
   "outputs": [],
   "source": []
  },
  {
   "cell_type": "code",
   "execution_count": null,
   "id": "83f4777a-79ea-460a-8d8d-7a35eab56a9c",
   "metadata": {},
   "outputs": [],
   "source": []
  }
 ],
 "metadata": {
  "kernelspec": {
   "display_name": "Python 3 (ipykernel)",
   "language": "python",
   "name": "python3"
  },
  "language_info": {
   "codemirror_mode": {
    "name": "ipython",
    "version": 3
   },
   "file_extension": ".py",
   "mimetype": "text/x-python",
   "name": "python",
   "nbconvert_exporter": "python",
   "pygments_lexer": "ipython3",
   "version": "3.10.13"
  }
 },
 "nbformat": 4,
 "nbformat_minor": 5
}
