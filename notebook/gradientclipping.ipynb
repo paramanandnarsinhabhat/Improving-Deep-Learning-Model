{
 "cells": [
  {
   "cell_type": "code",
   "execution_count": 1,
   "id": "05eb4ddc-b656-487a-8fdb-f711ba6e7dab",
   "metadata": {},
   "outputs": [],
   "source": [
    "# Gradient Clipping in Keras\n",
    "#<ol>1. Loading the dataset</ol>\n",
    "## 1. Loading the dataset\n",
    "# import necessary libraries and functions\n",
    "import numpy as np\n",
    "import pandas as pd\n",
    "import matplotlib.pyplot as plt\n",
    "\n",
    "# importing layers from keras\n",
    "from keras.layers import Dense, InputLayer\n",
    "from keras.models import Sequential\n",
    "# importing adam optimizer from keras optimizer module \n",
    "from keras.optimizers import Adam\n",
    "\n",
    "# train_test_split to create training and validation set\n",
    "from sklearn.model_selection import train_test_split\n",
    "# accuracy_score to calculate the accuracy of predictions\n",
    "from sklearn.metrics import accuracy_score\n"
   ]
  },
  {
   "cell_type": "code",
   "execution_count": 2,
   "id": "b8957461-c06a-4936-8da5-8d9379abad26",
   "metadata": {},
   "outputs": [
    {
     "name": "stdout",
     "output_type": "stream",
     "text": [
      "  image_names  emergency_or_not\n",
      "0       0.jpg                 1\n",
      "1       1.jpg                 1\n",
      "2       2.jpg                 1\n",
      "3       3.jpg                 1\n",
      "4       4.jpg                 1\n"
     ]
    }
   ],
   "source": [
    "# reading the csv file\n",
    "data = pd.read_csv('../data/Dataset/emergency_classification.csv')\n",
    "\n",
    "print(data.head())"
   ]
  },
  {
   "cell_type": "code",
   "execution_count": 3,
   "id": "195dcd49-1b15-4be8-b8cd-9bbcffa86038",
   "metadata": {},
   "outputs": [],
   "source": [
    "# create random number generator\n",
    "seed = 42\n",
    "rng = np.random.RandomState(seed)\n"
   ]
  },
  {
   "cell_type": "code",
   "execution_count": 5,
   "id": "5e4214fa-13ec-4601-9785-46d76dbf93bd",
   "metadata": {},
   "outputs": [],
   "source": [
    "# empty list to store the images\n",
    "X = []\n",
    "# iterating over each image\n",
    "for img_name in data.image_names:\n",
    "    # loading the image using its name\n",
    "    img = plt.imread('../data/Dataset/images/' + img_name)\n",
    "    # saving each image in the list\n",
    "    X.append(img)\n"
   ]
  },
  {
   "cell_type": "code",
   "execution_count": 6,
   "id": "ea2e5fb4-ba04-41f0-81a8-ed41f922a54f",
   "metadata": {},
   "outputs": [
    {
     "name": "stdout",
     "output_type": "stream",
     "text": [
      "(2352, 150528)\n"
     ]
    }
   ],
   "source": [
    "# converting the list of images into array\n",
    "X=np.array(X)\n",
    "\n",
    "# storing the target variable in separate variable\n",
    "y = data.emergency_or_not.values\n",
    "\n",
    "## 2. Pre-processing the data\n",
    "# converting 3 dimensional image to 1 dimensional image\n",
    "X = X.reshape(X.shape[0], 224*224*3)\n",
    "X.shape\n",
    "print(X.shape)\n"
   ]
  },
  {
   "cell_type": "code",
   "execution_count": 7,
   "id": "b144ba6e-9a3e-4f3f-a002-88c9ed72bbb9",
   "metadata": {},
   "outputs": [
    {
     "name": "stdout",
     "output_type": "stream",
     "text": [
      "0.0 1.0\n"
     ]
    }
   ],
   "source": [
    "# normalizing the pixel values\n",
    "X = X / X.max()\n",
    "\n",
    "# minimum and maximum pixel values of images after normalizing\n",
    "X.min(), X.max()\n",
    "\n",
    "print(X.min(), X.max())\n"
   ]
  },
  {
   "cell_type": "code",
   "execution_count": 8,
   "id": "6861f3a6-bfdc-49e5-ae30-3b6e927e9485",
   "metadata": {},
   "outputs": [
    {
     "name": "stdout",
     "output_type": "stream",
     "text": [
      "((1646, 150528), (1646,)) ((706, 150528), (706,))\n"
     ]
    }
   ],
   "source": [
    "## 3. Creating training and validation set\n",
    "# creating a training and validation set\n",
    "X_train, X_valid, y_train, y_valid=train_test_split(X,y,test_size=0.3, random_state=seed)\n",
    "\n",
    "# shape of training and validation set\n",
    "(X_train.shape, y_train.shape), (X_valid.shape, y_valid.shape)\n",
    "\n",
    "print((X_train.shape, y_train.shape), (X_valid.shape, y_valid.shape))\n"
   ]
  },
  {
   "cell_type": "code",
   "execution_count": 9,
   "id": "bb844d22-8c96-4142-98a7-94fa034fec62",
   "metadata": {},
   "outputs": [
    {
     "name": "stderr",
     "output_type": "stream",
     "text": [
      "2024-02-04 10:32:51.139056: I metal_plugin/src/device/metal_device.cc:1154] Metal device set to: Apple M1\n",
      "2024-02-04 10:32:51.139122: I metal_plugin/src/device/metal_device.cc:296] systemMemory: 16.00 GB\n",
      "2024-02-04 10:32:51.139137: I metal_plugin/src/device/metal_device.cc:313] maxCacheSize: 5.33 GB\n",
      "2024-02-04 10:32:51.139509: I tensorflow/core/common_runtime/pluggable_device/pluggable_device_factory.cc:306] Could not identify NUMA node of platform GPU ID 0, defaulting to 0. Your kernel may not have been built with NUMA support.\n",
      "2024-02-04 10:32:51.139783: I tensorflow/core/common_runtime/pluggable_device/pluggable_device_factory.cc:272] Created TensorFlow device (/job:localhost/replica:0/task:0/device:GPU:0 with 0 MB memory) -> physical PluggableDevice (device: 0, name: METAL, pci bus id: <undefined>)\n"
     ]
    }
   ],
   "source": [
    "## 4. Defining the model architecture\n",
    "# defining the model architecture with dropout layer\n",
    "model=Sequential()\n",
    "\n",
    "model.add(InputLayer(input_shape=(224*224*3,)))\n",
    "model.add(Dense(100, activation='sigmoid'))\n",
    "model.add(Dense(100, activation='sigmoid'))\n",
    "model.add(Dense(units=1, activation='sigmoid'))\n"
   ]
  },
  {
   "cell_type": "code",
   "execution_count": 10,
   "id": "8bbbf132-05ec-4dc9-83a1-b939dba2f377",
   "metadata": {},
   "outputs": [
    {
     "name": "stderr",
     "output_type": "stream",
     "text": [
      "WARNING:absl:At this time, the v2.11+ optimizer `tf.keras.optimizers.Adam` runs slowly on M1/M2 Macs, please use the legacy Keras optimizer instead, located at `tf.keras.optimizers.legacy.Adam`.\n",
      "WARNING:absl:`lr` is deprecated in Keras optimizer, please use `learning_rate` or use the legacy optimizer, e.g.,tf.keras.optimizers.legacy.Adam.\n"
     ]
    }
   ],
   "source": [
    "## 5. Compiling the model\n",
    "# defining the adam optimizer and setting the learning rate as 10^-5 and adding clip value to clip the gradients\n",
    "adam = Adam(lr=1e-5, clipvalue=1)\n"
   ]
  },
  {
   "cell_type": "code",
   "execution_count": 11,
   "id": "dfb6faac-ae01-470b-9b63-b66a1b6a3920",
   "metadata": {},
   "outputs": [],
   "source": [
    "# defining loss as binary crossentropy\n",
    "# defining optimizer as Adam\n",
    "# defining metrics as accuracy\n",
    "\n",
    "model.compile(loss='binary_crossentropy', optimizer=adam, metrics=['accuracy'])\n",
    "\n"
   ]
  },
  {
   "cell_type": "code",
   "execution_count": 12,
   "id": "61c28688-18c0-474f-a668-3d416f7488a1",
   "metadata": {},
   "outputs": [
    {
     "name": "stdout",
     "output_type": "stream",
     "text": [
      "Epoch 1/100\n"
     ]
    },
    {
     "name": "stderr",
     "output_type": "stream",
     "text": [
      "2024-02-04 10:37:01.234778: I tensorflow/core/grappler/optimizers/custom_graph_optimizer_registry.cc:117] Plugin optimizer for device_type GPU is enabled.\n",
      "2024-02-04 10:37:01.269818: E tensorflow/core/grappler/optimizers/meta_optimizer.cc:961] model_pruner failed: INVALID_ARGUMENT: Graph does not contain terminal node Adam/AssignAddVariableOp.\n"
     ]
    },
    {
     "name": "stdout",
     "output_type": "stream",
     "text": [
      "13/13 [==============================] - 6s 364ms/step - loss: 0.6977 - accuracy: 0.5729 - val_loss: 0.6869 - val_accuracy: 0.5609\n",
      "Epoch 2/100\n",
      "13/13 [==============================] - 1s 83ms/step - loss: 0.6788 - accuracy: 0.5863 - val_loss: 0.6900 - val_accuracy: 0.5609\n",
      "Epoch 3/100\n",
      "13/13 [==============================] - 1s 78ms/step - loss: 0.6787 - accuracy: 0.5863 - val_loss: 0.6860 - val_accuracy: 0.5609\n",
      "Epoch 4/100\n",
      "13/13 [==============================] - 1s 78ms/step - loss: 0.6787 - accuracy: 0.5863 - val_loss: 0.6895 - val_accuracy: 0.5609\n",
      "Epoch 5/100\n",
      "13/13 [==============================] - 1s 80ms/step - loss: 0.6797 - accuracy: 0.5863 - val_loss: 0.6862 - val_accuracy: 0.5609\n",
      "Epoch 6/100\n",
      "13/13 [==============================] - 1s 78ms/step - loss: 0.6795 - accuracy: 0.5863 - val_loss: 0.6875 - val_accuracy: 0.5609\n",
      "Epoch 7/100\n",
      "13/13 [==============================] - 1s 79ms/step - loss: 0.6802 - accuracy: 0.5863 - val_loss: 0.6857 - val_accuracy: 0.5609\n",
      "Epoch 8/100\n",
      "13/13 [==============================] - 1s 79ms/step - loss: 0.6788 - accuracy: 0.5863 - val_loss: 0.6877 - val_accuracy: 0.5609\n",
      "Epoch 9/100\n",
      "13/13 [==============================] - 1s 79ms/step - loss: 0.6795 - accuracy: 0.5863 - val_loss: 0.6859 - val_accuracy: 0.5609\n",
      "Epoch 10/100\n",
      "13/13 [==============================] - 1s 80ms/step - loss: 0.6811 - accuracy: 0.5863 - val_loss: 0.6923 - val_accuracy: 0.5609\n",
      "Epoch 11/100\n",
      "13/13 [==============================] - 1s 79ms/step - loss: 0.6819 - accuracy: 0.5863 - val_loss: 0.6897 - val_accuracy: 0.5609\n",
      "Epoch 12/100\n",
      "13/13 [==============================] - 1s 79ms/step - loss: 0.6797 - accuracy: 0.5863 - val_loss: 0.6857 - val_accuracy: 0.5609\n",
      "Epoch 13/100\n",
      "13/13 [==============================] - 1s 79ms/step - loss: 0.6800 - accuracy: 0.5863 - val_loss: 0.6897 - val_accuracy: 0.5609\n",
      "Epoch 14/100\n",
      "13/13 [==============================] - 1s 79ms/step - loss: 0.6784 - accuracy: 0.5863 - val_loss: 0.6857 - val_accuracy: 0.5609\n",
      "Epoch 15/100\n",
      "13/13 [==============================] - 1s 79ms/step - loss: 0.6791 - accuracy: 0.5863 - val_loss: 0.6884 - val_accuracy: 0.5609\n",
      "Epoch 16/100\n",
      "13/13 [==============================] - 1s 82ms/step - loss: 0.6788 - accuracy: 0.5863 - val_loss: 0.6858 - val_accuracy: 0.5609\n",
      "Epoch 17/100\n",
      "13/13 [==============================] - 1s 80ms/step - loss: 0.6794 - accuracy: 0.5863 - val_loss: 0.6923 - val_accuracy: 0.5609\n",
      "Epoch 18/100\n",
      "13/13 [==============================] - 1s 79ms/step - loss: 0.6808 - accuracy: 0.5863 - val_loss: 0.6860 - val_accuracy: 0.5609\n",
      "Epoch 19/100\n",
      "13/13 [==============================] - 1s 83ms/step - loss: 0.6815 - accuracy: 0.5863 - val_loss: 0.6860 - val_accuracy: 0.5609\n",
      "Epoch 20/100\n",
      "13/13 [==============================] - 1s 85ms/step - loss: 0.6803 - accuracy: 0.5863 - val_loss: 0.6935 - val_accuracy: 0.5609\n",
      "Epoch 21/100\n",
      "13/13 [==============================] - 1s 78ms/step - loss: 0.6803 - accuracy: 0.5863 - val_loss: 0.6870 - val_accuracy: 0.5609\n",
      "Epoch 22/100\n",
      "13/13 [==============================] - 1s 79ms/step - loss: 0.6786 - accuracy: 0.5863 - val_loss: 0.6883 - val_accuracy: 0.5609\n",
      "Epoch 23/100\n",
      "13/13 [==============================] - 1s 80ms/step - loss: 0.6793 - accuracy: 0.5863 - val_loss: 0.6869 - val_accuracy: 0.5609\n",
      "Epoch 24/100\n",
      "13/13 [==============================] - 1s 80ms/step - loss: 0.6795 - accuracy: 0.5863 - val_loss: 0.6902 - val_accuracy: 0.5609\n",
      "Epoch 25/100\n",
      "13/13 [==============================] - 1s 82ms/step - loss: 0.6796 - accuracy: 0.5863 - val_loss: 0.6867 - val_accuracy: 0.5609\n",
      "Epoch 26/100\n",
      "13/13 [==============================] - 1s 79ms/step - loss: 0.6794 - accuracy: 0.5863 - val_loss: 0.6864 - val_accuracy: 0.5609\n",
      "Epoch 27/100\n",
      "13/13 [==============================] - 1s 87ms/step - loss: 0.6788 - accuracy: 0.5863 - val_loss: 0.6864 - val_accuracy: 0.5609\n",
      "Epoch 28/100\n",
      "13/13 [==============================] - 1s 79ms/step - loss: 0.6785 - accuracy: 0.5863 - val_loss: 0.6880 - val_accuracy: 0.5609\n",
      "Epoch 29/100\n",
      "13/13 [==============================] - 1s 81ms/step - loss: 0.6791 - accuracy: 0.5863 - val_loss: 0.6888 - val_accuracy: 0.5609\n",
      "Epoch 30/100\n",
      "13/13 [==============================] - 1s 78ms/step - loss: 0.6791 - accuracy: 0.5863 - val_loss: 0.6875 - val_accuracy: 0.5609\n",
      "Epoch 31/100\n",
      "13/13 [==============================] - 1s 80ms/step - loss: 0.6791 - accuracy: 0.5863 - val_loss: 0.6871 - val_accuracy: 0.5609\n",
      "Epoch 32/100\n",
      "13/13 [==============================] - 1s 77ms/step - loss: 0.6801 - accuracy: 0.5863 - val_loss: 0.6873 - val_accuracy: 0.5609\n",
      "Epoch 33/100\n",
      "13/13 [==============================] - 1s 78ms/step - loss: 0.6793 - accuracy: 0.5863 - val_loss: 0.6858 - val_accuracy: 0.5609\n",
      "Epoch 34/100\n",
      "13/13 [==============================] - 1s 78ms/step - loss: 0.6787 - accuracy: 0.5863 - val_loss: 0.6934 - val_accuracy: 0.5609\n",
      "Epoch 35/100\n",
      "13/13 [==============================] - 1s 78ms/step - loss: 0.6811 - accuracy: 0.5863 - val_loss: 0.6859 - val_accuracy: 0.5609\n",
      "Epoch 36/100\n",
      "13/13 [==============================] - 1s 77ms/step - loss: 0.6787 - accuracy: 0.5863 - val_loss: 0.6874 - val_accuracy: 0.5609\n",
      "Epoch 37/100\n",
      "13/13 [==============================] - 1s 83ms/step - loss: 0.6790 - accuracy: 0.5863 - val_loss: 0.6873 - val_accuracy: 0.5609\n",
      "Epoch 38/100\n",
      "13/13 [==============================] - 1s 78ms/step - loss: 0.6790 - accuracy: 0.5863 - val_loss: 0.6862 - val_accuracy: 0.5609\n",
      "Epoch 39/100\n",
      "13/13 [==============================] - 1s 77ms/step - loss: 0.6788 - accuracy: 0.5863 - val_loss: 0.6864 - val_accuracy: 0.5609\n",
      "Epoch 40/100\n",
      "13/13 [==============================] - 1s 77ms/step - loss: 0.6785 - accuracy: 0.5863 - val_loss: 0.6875 - val_accuracy: 0.5609\n",
      "Epoch 41/100\n",
      "13/13 [==============================] - 1s 77ms/step - loss: 0.6789 - accuracy: 0.5863 - val_loss: 0.6867 - val_accuracy: 0.5609\n",
      "Epoch 42/100\n",
      "13/13 [==============================] - 1s 78ms/step - loss: 0.6786 - accuracy: 0.5863 - val_loss: 0.6867 - val_accuracy: 0.5609\n",
      "Epoch 43/100\n",
      "13/13 [==============================] - 1s 78ms/step - loss: 0.6788 - accuracy: 0.5863 - val_loss: 0.6888 - val_accuracy: 0.5609\n",
      "Epoch 44/100\n",
      "13/13 [==============================] - 1s 77ms/step - loss: 0.6804 - accuracy: 0.5863 - val_loss: 0.6899 - val_accuracy: 0.5609\n",
      "Epoch 45/100\n",
      "13/13 [==============================] - 1s 77ms/step - loss: 0.6806 - accuracy: 0.5863 - val_loss: 0.6858 - val_accuracy: 0.5609\n",
      "Epoch 46/100\n",
      "13/13 [==============================] - 1s 78ms/step - loss: 0.6786 - accuracy: 0.5863 - val_loss: 0.6899 - val_accuracy: 0.5609\n",
      "Epoch 47/100\n",
      "13/13 [==============================] - 1s 77ms/step - loss: 0.6795 - accuracy: 0.5863 - val_loss: 0.6857 - val_accuracy: 0.5609\n",
      "Epoch 48/100\n",
      "13/13 [==============================] - 1s 77ms/step - loss: 0.6789 - accuracy: 0.5863 - val_loss: 0.6923 - val_accuracy: 0.5609\n",
      "Epoch 49/100\n",
      "13/13 [==============================] - 1s 79ms/step - loss: 0.6801 - accuracy: 0.5863 - val_loss: 0.6857 - val_accuracy: 0.5609\n",
      "Epoch 50/100\n",
      "13/13 [==============================] - 1s 78ms/step - loss: 0.6793 - accuracy: 0.5863 - val_loss: 0.6876 - val_accuracy: 0.5609\n",
      "Epoch 51/100\n",
      "13/13 [==============================] - 1s 78ms/step - loss: 0.6787 - accuracy: 0.5863 - val_loss: 0.6874 - val_accuracy: 0.5609\n",
      "Epoch 52/100\n",
      "13/13 [==============================] - 1s 77ms/step - loss: 0.6794 - accuracy: 0.5863 - val_loss: 0.6859 - val_accuracy: 0.5609\n",
      "Epoch 53/100\n",
      "13/13 [==============================] - 1s 78ms/step - loss: 0.6787 - accuracy: 0.5863 - val_loss: 0.6893 - val_accuracy: 0.5609\n",
      "Epoch 54/100\n",
      "13/13 [==============================] - 1s 82ms/step - loss: 0.6791 - accuracy: 0.5863 - val_loss: 0.6859 - val_accuracy: 0.5609\n",
      "Epoch 55/100\n",
      "13/13 [==============================] - 1s 78ms/step - loss: 0.6786 - accuracy: 0.5863 - val_loss: 0.6893 - val_accuracy: 0.5609\n",
      "Epoch 56/100\n",
      "13/13 [==============================] - 1s 81ms/step - loss: 0.6791 - accuracy: 0.5863 - val_loss: 0.6877 - val_accuracy: 0.5609\n",
      "Epoch 57/100\n",
      "13/13 [==============================] - 1s 80ms/step - loss: 0.6799 - accuracy: 0.5863 - val_loss: 0.6874 - val_accuracy: 0.5609\n",
      "Epoch 58/100\n",
      "13/13 [==============================] - 1s 80ms/step - loss: 0.6797 - accuracy: 0.5863 - val_loss: 0.6859 - val_accuracy: 0.5609\n",
      "Epoch 59/100\n",
      "13/13 [==============================] - 1s 80ms/step - loss: 0.6802 - accuracy: 0.5863 - val_loss: 0.6926 - val_accuracy: 0.5609\n",
      "Epoch 60/100\n",
      "13/13 [==============================] - 1s 78ms/step - loss: 0.6806 - accuracy: 0.5863 - val_loss: 0.6858 - val_accuracy: 0.5609\n",
      "Epoch 61/100\n",
      "13/13 [==============================] - 1s 78ms/step - loss: 0.6805 - accuracy: 0.5863 - val_loss: 0.6906 - val_accuracy: 0.5609\n",
      "Epoch 62/100\n",
      "13/13 [==============================] - 1s 79ms/step - loss: 0.6794 - accuracy: 0.5863 - val_loss: 0.6865 - val_accuracy: 0.5609\n",
      "Epoch 63/100\n",
      "13/13 [==============================] - 1s 78ms/step - loss: 0.6797 - accuracy: 0.5863 - val_loss: 0.6879 - val_accuracy: 0.5609\n",
      "Epoch 64/100\n",
      "13/13 [==============================] - 1s 78ms/step - loss: 0.6794 - accuracy: 0.5863 - val_loss: 0.6893 - val_accuracy: 0.5609\n",
      "Epoch 65/100\n",
      "13/13 [==============================] - 1s 78ms/step - loss: 0.6795 - accuracy: 0.5863 - val_loss: 0.6876 - val_accuracy: 0.5609\n",
      "Epoch 66/100\n",
      "13/13 [==============================] - 1s 81ms/step - loss: 0.6784 - accuracy: 0.5863 - val_loss: 0.6878 - val_accuracy: 0.5609\n",
      "Epoch 67/100\n",
      "13/13 [==============================] - 1s 80ms/step - loss: 0.6782 - accuracy: 0.5863 - val_loss: 0.6859 - val_accuracy: 0.5609\n",
      "Epoch 68/100\n",
      "13/13 [==============================] - 1s 80ms/step - loss: 0.6792 - accuracy: 0.5863 - val_loss: 0.6911 - val_accuracy: 0.5609\n",
      "Epoch 69/100\n",
      "13/13 [==============================] - 1s 82ms/step - loss: 0.6789 - accuracy: 0.5863 - val_loss: 0.6857 - val_accuracy: 0.5609\n",
      "Epoch 70/100\n",
      "13/13 [==============================] - 1s 80ms/step - loss: 0.6787 - accuracy: 0.5863 - val_loss: 0.6879 - val_accuracy: 0.5609\n",
      "Epoch 71/100\n",
      "13/13 [==============================] - 1s 79ms/step - loss: 0.6805 - accuracy: 0.5863 - val_loss: 0.6868 - val_accuracy: 0.5609\n",
      "Epoch 72/100\n",
      "13/13 [==============================] - 1s 79ms/step - loss: 0.6790 - accuracy: 0.5863 - val_loss: 0.6861 - val_accuracy: 0.5609\n",
      "Epoch 73/100\n",
      "13/13 [==============================] - 1s 79ms/step - loss: 0.6796 - accuracy: 0.5863 - val_loss: 0.6929 - val_accuracy: 0.5609\n",
      "Epoch 74/100\n",
      "13/13 [==============================] - 1s 79ms/step - loss: 0.6803 - accuracy: 0.5863 - val_loss: 0.6858 - val_accuracy: 0.5609\n",
      "Epoch 75/100\n",
      "13/13 [==============================] - 1s 79ms/step - loss: 0.6785 - accuracy: 0.5863 - val_loss: 0.6916 - val_accuracy: 0.5609\n",
      "Epoch 76/100\n",
      "13/13 [==============================] - 1s 84ms/step - loss: 0.6791 - accuracy: 0.5863 - val_loss: 0.6869 - val_accuracy: 0.5609\n",
      "Epoch 77/100\n",
      "13/13 [==============================] - 1s 79ms/step - loss: 0.6840 - accuracy: 0.5863 - val_loss: 0.6884 - val_accuracy: 0.5609\n",
      "Epoch 78/100\n",
      "13/13 [==============================] - 1s 79ms/step - loss: 0.6799 - accuracy: 0.5863 - val_loss: 0.6891 - val_accuracy: 0.5609\n",
      "Epoch 79/100\n",
      "13/13 [==============================] - 1s 79ms/step - loss: 0.6796 - accuracy: 0.5863 - val_loss: 0.6858 - val_accuracy: 0.5609\n",
      "Epoch 80/100\n",
      "13/13 [==============================] - 1s 79ms/step - loss: 0.6799 - accuracy: 0.5863 - val_loss: 0.6876 - val_accuracy: 0.5609\n",
      "Epoch 81/100\n",
      "13/13 [==============================] - 1s 79ms/step - loss: 0.6786 - accuracy: 0.5863 - val_loss: 0.6866 - val_accuracy: 0.5609\n",
      "Epoch 82/100\n",
      "13/13 [==============================] - 1s 79ms/step - loss: 0.6784 - accuracy: 0.5863 - val_loss: 0.6874 - val_accuracy: 0.5609\n",
      "Epoch 83/100\n",
      "13/13 [==============================] - 1s 79ms/step - loss: 0.6787 - accuracy: 0.5863 - val_loss: 0.6868 - val_accuracy: 0.5609\n",
      "Epoch 84/100\n",
      "13/13 [==============================] - 1s 79ms/step - loss: 0.6798 - accuracy: 0.5863 - val_loss: 0.6858 - val_accuracy: 0.5609\n",
      "Epoch 85/100\n",
      "13/13 [==============================] - 1s 79ms/step - loss: 0.6802 - accuracy: 0.5863 - val_loss: 0.6947 - val_accuracy: 0.5609\n",
      "Epoch 86/100\n",
      "13/13 [==============================] - 1s 79ms/step - loss: 0.6823 - accuracy: 0.5863 - val_loss: 0.6865 - val_accuracy: 0.5609\n",
      "Epoch 87/100\n",
      "13/13 [==============================] - 1s 86ms/step - loss: 0.6820 - accuracy: 0.5863 - val_loss: 0.6930 - val_accuracy: 0.5609\n",
      "Epoch 88/100\n",
      "13/13 [==============================] - 1s 85ms/step - loss: 0.6801 - accuracy: 0.5863 - val_loss: 0.6858 - val_accuracy: 0.5609\n",
      "Epoch 89/100\n",
      "13/13 [==============================] - 1s 79ms/step - loss: 0.6784 - accuracy: 0.5863 - val_loss: 0.6904 - val_accuracy: 0.5609\n",
      "Epoch 90/100\n",
      "13/13 [==============================] - 1s 80ms/step - loss: 0.6784 - accuracy: 0.5863 - val_loss: 0.6857 - val_accuracy: 0.5609\n",
      "Epoch 91/100\n",
      "13/13 [==============================] - 1s 80ms/step - loss: 0.6802 - accuracy: 0.5863 - val_loss: 0.6908 - val_accuracy: 0.5609\n",
      "Epoch 92/100\n",
      "13/13 [==============================] - 1s 80ms/step - loss: 0.6796 - accuracy: 0.5863 - val_loss: 0.6861 - val_accuracy: 0.5609\n",
      "Epoch 93/100\n",
      "13/13 [==============================] - 1s 81ms/step - loss: 0.6786 - accuracy: 0.5863 - val_loss: 0.6877 - val_accuracy: 0.5609\n",
      "Epoch 94/100\n",
      "13/13 [==============================] - 1s 80ms/step - loss: 0.6796 - accuracy: 0.5863 - val_loss: 0.6857 - val_accuracy: 0.5609\n",
      "Epoch 95/100\n",
      "13/13 [==============================] - 1s 79ms/step - loss: 0.6782 - accuracy: 0.5863 - val_loss: 0.6934 - val_accuracy: 0.5609\n",
      "Epoch 96/100\n",
      "13/13 [==============================] - 1s 81ms/step - loss: 0.6819 - accuracy: 0.5863 - val_loss: 0.6863 - val_accuracy: 0.5609\n",
      "Epoch 97/100\n",
      "13/13 [==============================] - 1s 82ms/step - loss: 0.6787 - accuracy: 0.5863 - val_loss: 0.6871 - val_accuracy: 0.5609\n",
      "Epoch 98/100\n",
      "13/13 [==============================] - 1s 81ms/step - loss: 0.6791 - accuracy: 0.5863 - val_loss: 0.6866 - val_accuracy: 0.5609\n",
      "Epoch 99/100\n",
      "13/13 [==============================] - 1s 79ms/step - loss: 0.6818 - accuracy: 0.5863 - val_loss: 0.6857 - val_accuracy: 0.5609\n",
      "Epoch 100/100\n",
      "13/13 [==============================] - 1s 80ms/step - loss: 0.6817 - accuracy: 0.5863 - val_loss: 0.6912 - val_accuracy: 0.5609\n"
     ]
    }
   ],
   "source": [
    "## 6. Training the model\n",
    "# training the model for 100 epochs\n",
    "\n",
    "model_history = model.fit(X_train, y_train, epochs=100, batch_size=128,validation_data=(X_valid,y_valid))\n",
    "\n"
   ]
  },
  {
   "cell_type": "code",
   "execution_count": null,
   "id": "77067040-f3fd-43f7-aefc-1a3e5e1cf72d",
   "metadata": {},
   "outputs": [],
   "source": [
    "\n",
    "## 7. Evaluating model performance \n",
    "prediction = model.predict(X_valid)\n",
    "prediction = prediction.reshape(706,)"
   ]
  }
 ],
 "metadata": {
  "kernelspec": {
   "display_name": "Python 3 (ipykernel)",
   "language": "python",
   "name": "python3"
  },
  "language_info": {
   "codemirror_mode": {
    "name": "ipython",
    "version": 3
   },
   "file_extension": ".py",
   "mimetype": "text/x-python",
   "name": "python",
   "nbconvert_exporter": "python",
   "pygments_lexer": "ipython3",
   "version": "3.10.13"
  }
 },
 "nbformat": 4,
 "nbformat_minor": 5
}
