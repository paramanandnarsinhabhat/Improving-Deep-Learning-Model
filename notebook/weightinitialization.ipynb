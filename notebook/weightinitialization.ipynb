{
 "cells": [
  {
   "cell_type": "code",
   "execution_count": 1,
   "id": "e9c12f15-d741-41ad-9d9c-3c8234e1840a",
   "metadata": {},
   "outputs": [
    {
     "data": {
      "text/plain": [
       "'\\n<ol>2. Pre-processing the data</ol>\\n<ol>3. Creating training and validation set</ol>\\n<ol>4. Defining the model architecture</ol>\\n<ol><ol>Setting up the weight initialization technique</ol></ol>\\n<ol>5. Compiling the model</ol>\\n<ol>6. Training the model</ol>\\n<ol>7. Evaluating model performance</ol>\\n\\n'"
      ]
     },
     "execution_count": 1,
     "metadata": {},
     "output_type": "execute_result"
    }
   ],
   "source": [
    "# Steps to solve Emergency vs Non-Emergency vehicle classification\n",
    "#<ol>1. Loading the dataset</ol>\n",
    "'''\n",
    "<ol>2. Pre-processing the data</ol>\n",
    "<ol>3. Creating training and validation set</ol>\n",
    "<ol>4. Defining the model architecture</ol>\n",
    "<ol><ol>Setting up the weight initialization technique</ol></ol>\n",
    "<ol>5. Compiling the model</ol>\n",
    "<ol>6. Training the model</ol>\n",
    "<ol>7. Evaluating model performance</ol>\n",
    "\n",
    "'''\n"
   ]
  },
  {
   "cell_type": "code",
   "execution_count": 2,
   "id": "a4b54200-d8de-4c94-a18e-4d232ea4ff22",
   "metadata": {},
   "outputs": [],
   "source": [
    "\n",
    "## 1. Loading the dataset\n",
    "# import necessary libraries and functions\n",
    "import numpy as np\n",
    "import pandas as pd\n",
    "import matplotlib.pyplot as plt\n",
    "\n",
    "# importing layers from keras\n",
    "from keras.layers import Dense, InputLayer\n",
    "from keras.models import Sequential\n",
    "# importing adam optimizer from keras optimizer module \n",
    "from keras.optimizers import Adam\n",
    "\n",
    "# train_test_split to create training and validation set\n",
    "from sklearn.model_selection import train_test_split\n",
    "# accuracy_score to calculate the accuracy of predictions\n",
    "from sklearn.metrics import accuracy_score\n"
   ]
  },
  {
   "cell_type": "code",
   "execution_count": 3,
   "id": "3374d998-eaa0-4626-a26d-980e325c6543",
   "metadata": {},
   "outputs": [
    {
     "name": "stdout",
     "output_type": "stream",
     "text": [
      "  image_names  emergency_or_not\n",
      "0       0.jpg                 1\n",
      "1       1.jpg                 1\n",
      "2       2.jpg                 1\n",
      "3       3.jpg                 1\n",
      "4       4.jpg                 1\n"
     ]
    }
   ],
   "source": [
    "# reading the csv file\n",
    "data = pd.read_csv('../data/Dataset/emergency_classification.csv')\n",
    "\n",
    "# defining the seed value\n",
    "seed = 42\n",
    "\n",
    "# looking at first five rows of the data\n",
    "data.head()\n",
    "\n",
    "print(data.head())\n"
   ]
  },
  {
   "cell_type": "code",
   "execution_count": 5,
   "id": "db80c96f-4bd0-4245-8d5a-aebdaa00d306",
   "metadata": {},
   "outputs": [
    {
     "name": "stdout",
     "output_type": "stream",
     "text": [
      "(2352, 224, 224, 3)\n"
     ]
    }
   ],
   "source": [
    "# empty list to store the images\n",
    "X = []\n",
    "# iterating over each image\n",
    "for img_name in data.image_names:\n",
    "    # loading the image using its name\n",
    "    img = plt.imread('../data/Dataset/images/' + img_name)\n",
    "    # saving each image in the list\n",
    "    X.append(img)\n",
    "    \n",
    "# converting the list of images into array\n",
    "X=np.array(X)\n",
    "\n",
    "# storing the target variable in separate variable\n",
    "y = data.emergency_or_not.values\n",
    "\n",
    "# shape of the images\n",
    "X.shape\n",
    "\n",
    "print(X.shape)\n"
   ]
  },
  {
   "cell_type": "code",
   "execution_count": 6,
   "id": "8a8e976a-01d9-473f-b72b-08da20bd38c9",
   "metadata": {},
   "outputs": [
    {
     "name": "stdout",
     "output_type": "stream",
     "text": [
      "(2352, 150528)\n"
     ]
    }
   ],
   "source": [
    "## 2. Pre-processing the data\n",
    "# converting 3 dimensional image to 1 dimensional image\n",
    "X = X.reshape(X.shape[0], 224*224*3)\n",
    "X.shape\n",
    "\n",
    "print(X.shape)\n"
   ]
  },
  {
   "cell_type": "code",
   "execution_count": 7,
   "id": "5e384e79-2e3f-4abe-ae83-ab424da8789a",
   "metadata": {},
   "outputs": [
    {
     "name": "stdout",
     "output_type": "stream",
     "text": [
      "0.0 1.0\n"
     ]
    }
   ],
   "source": [
    "# minimum and maximum pixel values of images\n",
    "X.min(), X.max()\n",
    "\n",
    "# normalizing the pixel values\n",
    "X = X / X.max()\n",
    "\n",
    "\n",
    "# minimum and maximum pixel values of images after normalizing\n",
    "X.min(), X.max()\n",
    "\n",
    "print(X.min(), X.max())"
   ]
  },
  {
   "cell_type": "code",
   "execution_count": 9,
   "id": "5fa6cee8-2d29-47be-be0e-86b06ef2e56b",
   "metadata": {},
   "outputs": [],
   "source": [
    "## 3. Creating training and validation set\n",
    "# creating a training and validation set\n",
    "X_train, X_valid, y_train, y_valid=train_test_split(X,y,test_size=0.3, random_state=seed)\n"
   ]
  },
  {
   "cell_type": "code",
   "execution_count": 10,
   "id": "9c764513-05de-4d8f-8849-a252ad030470",
   "metadata": {},
   "outputs": [
    {
     "name": "stdout",
     "output_type": "stream",
     "text": [
      "((1646, 150528), (1646,)) ((706, 150528), (706,))\n"
     ]
    }
   ],
   "source": [
    "# shape of training and validation set\n",
    "(X_train.shape, y_train.shape), (X_valid.shape, y_valid.shape)\n",
    "\n",
    "print(# shape of training and validation set\n",
    "(X_train.shape, y_train.shape), (X_valid.shape, y_valid.shape))\n"
   ]
  },
  {
   "cell_type": "code",
   "execution_count": 11,
   "id": "4139383e-00cc-467f-9d31-f43960fba8dc",
   "metadata": {},
   "outputs": [
    {
     "name": "stderr",
     "output_type": "stream",
     "text": [
      "2024-02-04 11:46:18.893163: I metal_plugin/src/device/metal_device.cc:1154] Metal device set to: Apple M1\n",
      "2024-02-04 11:46:18.893202: I metal_plugin/src/device/metal_device.cc:296] systemMemory: 16.00 GB\n",
      "2024-02-04 11:46:18.893220: I metal_plugin/src/device/metal_device.cc:313] maxCacheSize: 5.33 GB\n",
      "2024-02-04 11:46:18.893616: I tensorflow/core/common_runtime/pluggable_device/pluggable_device_factory.cc:306] Could not identify NUMA node of platform GPU ID 0, defaulting to 0. Your kernel may not have been built with NUMA support.\n",
      "2024-02-04 11:46:18.893914: I tensorflow/core/common_runtime/pluggable_device/pluggable_device_factory.cc:272] Created TensorFlow device (/job:localhost/replica:0/task:0/device:GPU:0 with 0 MB memory) -> physical PluggableDevice (device: 0, name: METAL, pci bus id: <undefined>)\n"
     ]
    }
   ],
   "source": [
    "## 4. Defining the model architecture\n",
    "### Setting up the weight initialization technique\n",
    "\n",
    "# importing different initialization techniques\n",
    "from keras.initializers import random_normal, glorot_normal, he_normal\n",
    "\n",
    "# defining the model architecture\n",
    "model=Sequential()\n",
    "\n",
    "model.add(InputLayer(input_shape=(224*224*3,)))\n",
    "model.add(Dense(100, activation='sigmoid', kernel_initializer=he_normal(seed=seed)))\n",
    "model.add(Dense(100, activation='sigmoid', kernel_initializer=he_normal(seed=seed)))\n",
    "model.add(Dense(units=1, activation='sigmoid', kernel_initializer=he_normal(seed=seed)))\n"
   ]
  },
  {
   "cell_type": "code",
   "execution_count": 12,
   "id": "c84fb915-261b-460c-bf20-3e87451d496b",
   "metadata": {},
   "outputs": [
    {
     "name": "stderr",
     "output_type": "stream",
     "text": [
      "WARNING:absl:At this time, the v2.11+ optimizer `tf.keras.optimizers.Adam` runs slowly on M1/M2 Macs, please use the legacy Keras optimizer instead, located at `tf.keras.optimizers.legacy.Adam`.\n",
      "WARNING:absl:`lr` is deprecated in Keras optimizer, please use `learning_rate` or use the legacy optimizer, e.g.,tf.keras.optimizers.legacy.Adam.\n"
     ]
    }
   ],
   "source": [
    "## 5. Compiling the model\n",
    "# defining the adam optimizer and setting the learning rate as 10^-5\n",
    "adam = Adam(lr=1e-5)\n",
    "\n",
    "# compiling the model\n",
    "\n",
    "# defining loss as binary crossentropy\n",
    "# defining optimizer as Adam\n",
    "# defining metrics as accuracy\n",
    "\n",
    "model.compile(loss='binary_crossentropy', optimizer=adam, metrics=['accuracy'])\n"
   ]
  },
  {
   "cell_type": "code",
   "execution_count": 13,
   "id": "9c606438-5964-4415-83c3-d1b09b0f0d95",
   "metadata": {},
   "outputs": [
    {
     "name": "stdout",
     "output_type": "stream",
     "text": [
      "Epoch 1/50\n"
     ]
    },
    {
     "name": "stderr",
     "output_type": "stream",
     "text": [
      "2024-02-04 11:47:45.223518: I tensorflow/core/grappler/optimizers/custom_graph_optimizer_registry.cc:117] Plugin optimizer for device_type GPU is enabled.\n",
      "2024-02-04 11:47:45.257386: E tensorflow/core/grappler/optimizers/meta_optimizer.cc:961] model_pruner failed: INVALID_ARGUMENT: Graph does not contain terminal node Adam/AssignAddVariableOp.\n"
     ]
    },
    {
     "name": "stdout",
     "output_type": "stream",
     "text": [
      "13/13 [==============================] - 4s 216ms/step - loss: 0.7487 - accuracy: 0.5693 - val_loss: 0.6859 - val_accuracy: 0.5609\n",
      "Epoch 2/50\n",
      "13/13 [==============================] - 1s 79ms/step - loss: 0.6852 - accuracy: 0.5863 - val_loss: 0.6857 - val_accuracy: 0.5609\n",
      "Epoch 3/50\n",
      "13/13 [==============================] - 1s 74ms/step - loss: 0.6818 - accuracy: 0.5863 - val_loss: 0.6909 - val_accuracy: 0.5609\n",
      "Epoch 4/50\n",
      "13/13 [==============================] - 1s 73ms/step - loss: 0.6810 - accuracy: 0.5863 - val_loss: 0.6860 - val_accuracy: 0.5609\n",
      "Epoch 5/50\n",
      "13/13 [==============================] - 1s 73ms/step - loss: 0.6794 - accuracy: 0.5863 - val_loss: 0.6888 - val_accuracy: 0.5609\n",
      "Epoch 6/50\n",
      "13/13 [==============================] - 1s 74ms/step - loss: 0.6786 - accuracy: 0.5863 - val_loss: 0.6862 - val_accuracy: 0.5609\n",
      "Epoch 7/50\n",
      "13/13 [==============================] - 1s 74ms/step - loss: 0.6784 - accuracy: 0.5863 - val_loss: 0.6873 - val_accuracy: 0.5609\n",
      "Epoch 8/50\n",
      "13/13 [==============================] - 1s 74ms/step - loss: 0.6794 - accuracy: 0.5863 - val_loss: 0.6897 - val_accuracy: 0.5609\n",
      "Epoch 9/50\n",
      "13/13 [==============================] - 1s 73ms/step - loss: 0.6792 - accuracy: 0.5863 - val_loss: 0.6858 - val_accuracy: 0.5609\n",
      "Epoch 10/50\n",
      "13/13 [==============================] - 1s 73ms/step - loss: 0.6788 - accuracy: 0.5863 - val_loss: 0.6877 - val_accuracy: 0.5609\n",
      "Epoch 11/50\n",
      "13/13 [==============================] - 1s 74ms/step - loss: 0.6790 - accuracy: 0.5863 - val_loss: 0.6862 - val_accuracy: 0.5609\n",
      "Epoch 12/50\n",
      "13/13 [==============================] - 1s 74ms/step - loss: 0.6788 - accuracy: 0.5863 - val_loss: 0.6876 - val_accuracy: 0.5609\n",
      "Epoch 13/50\n",
      "13/13 [==============================] - 1s 75ms/step - loss: 0.6804 - accuracy: 0.5863 - val_loss: 0.6859 - val_accuracy: 0.5609\n",
      "Epoch 14/50\n",
      "13/13 [==============================] - 1s 73ms/step - loss: 0.6787 - accuracy: 0.5863 - val_loss: 0.6874 - val_accuracy: 0.5609\n",
      "Epoch 15/50\n",
      "13/13 [==============================] - 1s 72ms/step - loss: 0.6793 - accuracy: 0.5863 - val_loss: 0.6885 - val_accuracy: 0.5609\n",
      "Epoch 16/50\n",
      "13/13 [==============================] - 1s 73ms/step - loss: 0.6794 - accuracy: 0.5863 - val_loss: 0.6862 - val_accuracy: 0.5609\n",
      "Epoch 17/50\n",
      "13/13 [==============================] - 1s 74ms/step - loss: 0.6789 - accuracy: 0.5863 - val_loss: 0.6882 - val_accuracy: 0.5609\n",
      "Epoch 18/50\n",
      "13/13 [==============================] - 1s 73ms/step - loss: 0.6790 - accuracy: 0.5863 - val_loss: 0.6873 - val_accuracy: 0.5609\n",
      "Epoch 19/50\n",
      "13/13 [==============================] - 1s 73ms/step - loss: 0.6790 - accuracy: 0.5863 - val_loss: 0.6859 - val_accuracy: 0.5609\n",
      "Epoch 20/50\n",
      "13/13 [==============================] - 1s 73ms/step - loss: 0.6811 - accuracy: 0.5863 - val_loss: 0.6861 - val_accuracy: 0.5609\n",
      "Epoch 21/50\n",
      "13/13 [==============================] - 1s 75ms/step - loss: 0.6790 - accuracy: 0.5863 - val_loss: 0.6883 - val_accuracy: 0.5609\n",
      "Epoch 22/50\n",
      "13/13 [==============================] - 1s 74ms/step - loss: 0.6792 - accuracy: 0.5863 - val_loss: 0.6859 - val_accuracy: 0.5609\n",
      "Epoch 23/50\n",
      "13/13 [==============================] - 1s 73ms/step - loss: 0.6789 - accuracy: 0.5863 - val_loss: 0.6863 - val_accuracy: 0.5609\n",
      "Epoch 24/50\n",
      "13/13 [==============================] - 1s 73ms/step - loss: 0.6789 - accuracy: 0.5863 - val_loss: 0.6873 - val_accuracy: 0.5609\n",
      "Epoch 25/50\n",
      "13/13 [==============================] - 1s 79ms/step - loss: 0.6784 - accuracy: 0.5863 - val_loss: 0.6873 - val_accuracy: 0.5609\n",
      "Epoch 26/50\n",
      "13/13 [==============================] - 1s 88ms/step - loss: 0.6786 - accuracy: 0.5863 - val_loss: 0.6865 - val_accuracy: 0.5609\n",
      "Epoch 27/50\n",
      "13/13 [==============================] - 1s 80ms/step - loss: 0.6789 - accuracy: 0.5863 - val_loss: 0.6881 - val_accuracy: 0.5609\n",
      "Epoch 28/50\n",
      "13/13 [==============================] - 1s 75ms/step - loss: 0.6788 - accuracy: 0.5863 - val_loss: 0.6880 - val_accuracy: 0.5609\n",
      "Epoch 29/50\n",
      "13/13 [==============================] - 1s 74ms/step - loss: 0.6790 - accuracy: 0.5863 - val_loss: 0.6886 - val_accuracy: 0.5609\n",
      "Epoch 30/50\n",
      "13/13 [==============================] - 1s 88ms/step - loss: 0.6794 - accuracy: 0.5863 - val_loss: 0.6873 - val_accuracy: 0.5609\n",
      "Epoch 31/50\n",
      "13/13 [==============================] - 1s 81ms/step - loss: 0.6807 - accuracy: 0.5863 - val_loss: 0.6857 - val_accuracy: 0.5609\n",
      "Epoch 32/50\n",
      "13/13 [==============================] - 1s 89ms/step - loss: 0.6791 - accuracy: 0.5863 - val_loss: 0.6882 - val_accuracy: 0.5609\n",
      "Epoch 33/50\n",
      "13/13 [==============================] - 1s 79ms/step - loss: 0.6792 - accuracy: 0.5863 - val_loss: 0.6861 - val_accuracy: 0.5609\n",
      "Epoch 34/50\n",
      "13/13 [==============================] - 1s 77ms/step - loss: 0.6794 - accuracy: 0.5863 - val_loss: 0.6864 - val_accuracy: 0.5609\n",
      "Epoch 35/50\n",
      "13/13 [==============================] - 1s 80ms/step - loss: 0.6827 - accuracy: 0.5863 - val_loss: 0.6965 - val_accuracy: 0.5609\n",
      "Epoch 36/50\n",
      "13/13 [==============================] - 1s 76ms/step - loss: 0.6820 - accuracy: 0.5863 - val_loss: 0.6868 - val_accuracy: 0.5609\n",
      "Epoch 37/50\n",
      "13/13 [==============================] - 1s 74ms/step - loss: 0.6789 - accuracy: 0.5863 - val_loss: 0.6896 - val_accuracy: 0.5609\n",
      "Epoch 38/50\n",
      "13/13 [==============================] - 1s 79ms/step - loss: 0.6796 - accuracy: 0.5863 - val_loss: 0.6858 - val_accuracy: 0.5609\n",
      "Epoch 39/50\n",
      "13/13 [==============================] - 1s 74ms/step - loss: 0.6791 - accuracy: 0.5863 - val_loss: 0.6888 - val_accuracy: 0.5609\n",
      "Epoch 40/50\n",
      "13/13 [==============================] - 1s 74ms/step - loss: 0.6813 - accuracy: 0.5863 - val_loss: 0.6910 - val_accuracy: 0.5609\n",
      "Epoch 41/50\n",
      "13/13 [==============================] - 1s 74ms/step - loss: 0.6801 - accuracy: 0.5863 - val_loss: 0.6873 - val_accuracy: 0.5609\n",
      "Epoch 42/50\n",
      "13/13 [==============================] - 1s 74ms/step - loss: 0.6786 - accuracy: 0.5863 - val_loss: 0.6865 - val_accuracy: 0.5609\n",
      "Epoch 43/50\n",
      "13/13 [==============================] - 1s 74ms/step - loss: 0.6791 - accuracy: 0.5863 - val_loss: 0.6864 - val_accuracy: 0.5609\n",
      "Epoch 44/50\n",
      "13/13 [==============================] - 1s 74ms/step - loss: 0.6790 - accuracy: 0.5863 - val_loss: 0.6888 - val_accuracy: 0.5609\n",
      "Epoch 45/50\n",
      "13/13 [==============================] - 1s 74ms/step - loss: 0.6785 - accuracy: 0.5863 - val_loss: 0.6860 - val_accuracy: 0.5609\n",
      "Epoch 46/50\n",
      "13/13 [==============================] - 1s 74ms/step - loss: 0.6798 - accuracy: 0.5863 - val_loss: 0.6924 - val_accuracy: 0.5609\n",
      "Epoch 47/50\n",
      "13/13 [==============================] - 1s 74ms/step - loss: 0.6817 - accuracy: 0.5863 - val_loss: 0.6860 - val_accuracy: 0.5609\n",
      "Epoch 48/50\n",
      "13/13 [==============================] - 1s 74ms/step - loss: 0.6787 - accuracy: 0.5863 - val_loss: 0.6873 - val_accuracy: 0.5609\n",
      "Epoch 49/50\n",
      "13/13 [==============================] - 1s 75ms/step - loss: 0.6788 - accuracy: 0.5863 - val_loss: 0.6858 - val_accuracy: 0.5609\n",
      "Epoch 50/50\n",
      "13/13 [==============================] - 1s 73ms/step - loss: 0.6791 - accuracy: 0.5863 - val_loss: 0.6880 - val_accuracy: 0.5609\n"
     ]
    }
   ],
   "source": [
    "## 6. Training the model\n",
    "# training the model for 50 epochs\n",
    "model_history = model.fit(X_train, y_train, epochs=50, batch_size=128, validation_data=(X_valid,y_valid))\n"
   ]
  },
  {
   "cell_type": "code",
   "execution_count": 14,
   "id": "3ac0c0c4-4d63-4e3b-bab1-24ac1f7d9301",
   "metadata": {},
   "outputs": [
    {
     "name": "stdout",
     "output_type": "stream",
     "text": [
      "23/23 [==============================] - 1s 29ms/step\n",
      "Accuracy on validation set: 56.09065155807366 %\n"
     ]
    },
    {
     "data": {
      "image/png": "[encoded data removed]",
      "text/plain": [
       "<Figure size 640x480 with 1 Axes>"
      ]
     },
     "metadata": {},
     "output_type": "display_data"
    }
   ],
   "source": [
    "## 8. Evaluating model performance \n",
    "# accuracy on validation set\n",
    "from sklearn.metrics import accuracy_score\n",
    "\n",
    "# Predict probabilities\n",
    "predicted_probabilities = model.predict(X_valid)\n",
    "\n",
    "# Convert probabilities to binary predictions\n",
    "predicted_labels = (predicted_probabilities > 0.5).astype(int)\n",
    "\n",
    "# Now you can use accuracy_score\n",
    "print('Accuracy on validation set:', accuracy_score(y_valid, predicted_labels) * 100, '%')\n",
    " # summarize history for loss\n",
    "plt.plot(model_history.history['loss'])\n",
    "plt.plot(model_history.history['val_loss'])\n",
    "plt.title('model loss')\n",
    "plt.ylabel('loss')\n",
    "plt.xlabel('epoch')\n",
    "plt.legend(['train', 'validation'], loc='upper right')\n",
    "plt.show()"
   ]
  },
  {
   "cell_type": "code",
   "execution_count": null,
   "id": "6abf5435-2ccc-4fcd-9624-b161d2c3982d",
   "metadata": {},
   "outputs": [],
   "source": []
  }
 ],
 "metadata": {
  "kernelspec": {
   "display_name": "Python 3 (ipykernel)",
   "language": "python",
   "name": "python3"
  },
  "language_info": {
   "codemirror_mode": {
    "name": "ipython",
    "version": 3
   },
   "file_extension": ".py",
   "mimetype": "text/x-python",
   "name": "python",
   "nbconvert_exporter": "python",
   "pygments_lexer": "ipython3",
   "version": "3.10.13"
  }
 },
 "nbformat": 4,
 "nbformat_minor": 5
}
