{
 "cells": [
  {
   "cell_type": "code",
   "execution_count": 1,
   "id": "957ba339-fa9d-4215-a86f-afafdabdf25e",
   "metadata": {},
   "outputs": [
    {
     "name": "stdout",
     "output_type": "stream",
     "text": [
      "  image_names  emergency_or_not\n",
      "0       0.jpg                 1\n",
      "1       1.jpg                 1\n",
      "2       2.jpg                 1\n",
      "3       3.jpg                 1\n",
      "4       4.jpg                 1\n"
     ]
    }
   ],
   "source": [
    "### Steps to solve Emergency vs Non-Emergency vehicle classification problem using Dropout\n",
    "## 1. Loading the dataset\n",
    "# import necessary libraries and functions\n",
    "import numpy as np\n",
    "import pandas as pd\n",
    "import matplotlib.pyplot as plt\n",
    "\n",
    "# importing layers from keras\n",
    "from keras.layers import Dense, InputLayer\n",
    "from keras.models import Sequential\n",
    "# importing adam optimizer from keras optimizer module \n",
    "from keras.optimizers import Adam\n",
    "\n",
    "# train_test_split to create training and validation set\n",
    "from sklearn.model_selection import train_test_split\n",
    "# accuracy_score to calculate the accuracy of predictions\n",
    "from sklearn.metrics import accuracy_score\n",
    "\n",
    "\n",
    "# reading the csv file\n",
    "data = pd.read_csv('../data/Dataset/emergency_classification.csv')\n",
    "\n",
    "print(data.head())"
   ]
  },
  {
   "cell_type": "code",
   "execution_count": 2,
   "id": "75b6613a-6ba9-4137-a359-5bfa56778326",
   "metadata": {},
   "outputs": [],
   "source": [
    "# create random number generator\n",
    "seed = 42\n",
    "rng = np.random.RandomState(seed)\n",
    "\n",
    "# load images and store it in numpy array\n",
    "# empty list to store the images\n",
    "X = []\n",
    "# iterating over each image\n",
    "for img_name in data.image_names:\n",
    "    # loading the image using its name\n",
    "    img = plt.imread('../data/Dataset/images/' + img_name)\n",
    "    # saving each image in the list\n",
    "    X.append(img)"
   ]
  },
  {
   "cell_type": "code",
   "execution_count": 3,
   "id": "1735e55e-4a95-4e1f-b7a7-d6b72a0b73c4",
   "metadata": {},
   "outputs": [],
   "source": [
    "# converting the list of images into array\n",
    "X=np.array(X)\n",
    "\n",
    "# storing the target variable in separate variable\n",
    "y = data.emergency_or_not.values\n"
   ]
  },
  {
   "cell_type": "code",
   "execution_count": 4,
   "id": "48d9f962-7efd-4642-8e0a-2e3aa16609d6",
   "metadata": {},
   "outputs": [
    {
     "name": "stdout",
     "output_type": "stream",
     "text": [
      "(2352, 150528)\n"
     ]
    }
   ],
   "source": [
    "## 2. Pre-processing the data\n",
    "# converting 3 dimensional image to 1 dimensional image\n",
    "X = X.reshape(X.shape[0], 224*224*3)\n",
    "\n",
    "print(X.shape)\n"
   ]
  },
  {
   "cell_type": "code",
   "execution_count": 5,
   "id": "1637a706-1ef6-4533-b0e3-e2ba17e07615",
   "metadata": {},
   "outputs": [
    {
     "name": "stdout",
     "output_type": "stream",
     "text": [
      "0.0 1.0\n"
     ]
    }
   ],
   "source": [
    "# normalizing the pixel values\n",
    "X = X / X.max()\n",
    "\n",
    "# minimum and maximum pixel values of images after normalizing\n",
    "X.min(), X.max()\n",
    "\n",
    "print(X.min(), X.max())\n",
    "\n"
   ]
  },
  {
   "cell_type": "code",
   "execution_count": 6,
   "id": "c4cc09ca-88fd-42f2-97c7-0bcc7d39e074",
   "metadata": {},
   "outputs": [
    {
     "name": "stdout",
     "output_type": "stream",
     "text": [
      "((1646, 150528), (1646,)) ((706, 150528), (706,))\n"
     ]
    }
   ],
   "source": [
    "## 3. Creating training and validation set\n",
    "# creating a training and validation set\n",
    "X_train, X_valid, y_train, y_valid=train_test_split(X,y,test_size=0.3, random_state=seed)\n",
    "\n",
    "# shape of training and validation set\n",
    "(X_train.shape, y_train.shape), (X_valid.shape, y_valid.shape)\n",
    "\n",
    "print((X_train.shape, y_train.shape), (X_valid.shape, y_valid.shape))\n"
   ]
  },
  {
   "cell_type": "code",
   "execution_count": 7,
   "id": "6e733f81-6144-4c35-a177-027997cdef26",
   "metadata": {},
   "outputs": [
    {
     "name": "stderr",
     "output_type": "stream",
     "text": [
      "2024-02-03 17:13:51.758058: I metal_plugin/src/device/metal_device.cc:1154] Metal device set to: Apple M1\n",
      "2024-02-03 17:13:51.758146: I metal_plugin/src/device/metal_device.cc:296] systemMemory: 16.00 GB\n",
      "2024-02-03 17:13:51.758160: I metal_plugin/src/device/metal_device.cc:313] maxCacheSize: 5.33 GB\n",
      "2024-02-03 17:13:51.758541: I tensorflow/core/common_runtime/pluggable_device/pluggable_device_factory.cc:306] Could not identify NUMA node of platform GPU ID 0, defaulting to 0. Your kernel may not have been built with NUMA support.\n",
      "2024-02-03 17:13:51.758821: I tensorflow/core/common_runtime/pluggable_device/pluggable_device_factory.cc:272] Created TensorFlow device (/job:localhost/replica:0/task:0/device:GPU:0 with 0 MB memory) -> physical PluggableDevice (device: 0, name: METAL, pci bus id: <undefined>)\n"
     ]
    }
   ],
   "source": [
    "\n",
    "\n",
    "## 4. Defining the model architecture\n",
    "### <ol>Adding dropout layer(s)</ol>\n",
    "# importing the dropout layer\n",
    "from keras.layers import Dropout\n",
    "\n",
    "# defining the model architecture with dropout layer\n",
    "model=Sequential()\n",
    "\n",
    "model.add(InputLayer(input_shape=(224*224*3,)))\n",
    "model.add(Dense(100, activation='sigmoid'))\n",
    "model.add(Dropout(rate=0.5))\n",
    "model.add(Dense(100, activation='sigmoid'))\n",
    "model.add(Dropout(rate=0.5))\n",
    "model.add(Dense(units=1, activation='sigmoid'))\n"
   ]
  },
  {
   "cell_type": "code",
   "execution_count": 8,
   "id": "e569afc3-3516-43ef-ba35-d676a5040a95",
   "metadata": {},
   "outputs": [
    {
     "name": "stderr",
     "output_type": "stream",
     "text": [
      "WARNING:absl:At this time, the v2.11+ optimizer `tf.keras.optimizers.Adam` runs slowly on M1/M2 Macs, please use the legacy Keras optimizer instead, located at `tf.keras.optimizers.legacy.Adam`.\n",
      "WARNING:absl:`lr` is deprecated in Keras optimizer, please use `learning_rate` or use the legacy optimizer, e.g.,tf.keras.optimizers.legacy.Adam.\n"
     ]
    }
   ],
   "source": [
    "## 5. Compiling the model\n",
    "\n",
    "# defining the adam optimizer and setting the learning rate as 10^-5\n",
    "adam = Adam(lr=1e-5)\n",
    "\n"
   ]
  },
  {
   "cell_type": "code",
   "execution_count": 9,
   "id": "e612c9a4-478f-4c2f-a4f5-3a6127245930",
   "metadata": {},
   "outputs": [
    {
     "name": "stderr",
     "output_type": "stream",
     "text": [
      "WARNING:absl:At this time, the v2.11+ optimizer `tf.keras.optimizers.Adam` runs slowly on M1/M2 Macs, please use the legacy Keras optimizer instead, located at `tf.keras.optimizers.legacy.Adam`.\n"
     ]
    },
    {
     "name": "stdout",
     "output_type": "stream",
     "text": [
      "Epoch 1/100\n"
     ]
    },
    {
     "name": "stderr",
     "output_type": "stream",
     "text": [
      "2024-02-03 17:14:39.434243: I tensorflow/core/grappler/optimizers/custom_graph_optimizer_registry.cc:117] Plugin optimizer for device_type GPU is enabled.\n",
      "2024-02-03 17:14:39.470557: E tensorflow/core/grappler/optimizers/meta_optimizer.cc:961] model_pruner failed: INVALID_ARGUMENT: Graph does not contain terminal node Adam/AssignAddVariableOp.\n"
     ]
    },
    {
     "name": "stdout",
     "output_type": "stream",
     "text": [
      "13/13 [==============================] - 3s 188ms/step - loss: 0.7195 - accuracy: 0.5371 - val_loss: 0.6919 - val_accuracy: 0.5609\n",
      "Epoch 2/100\n",
      "13/13 [==============================] - 1s 79ms/step - loss: 0.7102 - accuracy: 0.5474 - val_loss: 0.6878 - val_accuracy: 0.5609\n",
      "Epoch 3/100\n",
      "13/13 [==============================] - 1s 74ms/step - loss: 0.6899 - accuracy: 0.5717 - val_loss: 0.6934 - val_accuracy: 0.5609\n",
      "Epoch 4/100\n",
      "13/13 [==============================] - 1s 73ms/step - loss: 0.6936 - accuracy: 0.5644 - val_loss: 0.6840 - val_accuracy: 0.5609\n",
      "Epoch 5/100\n",
      "13/13 [==============================] - 1s 73ms/step - loss: 0.6913 - accuracy: 0.5535 - val_loss: 0.6882 - val_accuracy: 0.5609\n",
      "Epoch 6/100\n",
      "13/13 [==============================] - 1s 73ms/step - loss: 0.6952 - accuracy: 0.5735 - val_loss: 0.6891 - val_accuracy: 0.5609\n",
      "Epoch 7/100\n",
      "13/13 [==============================] - 1s 75ms/step - loss: 0.6909 - accuracy: 0.5468 - val_loss: 0.6891 - val_accuracy: 0.5609\n",
      "Epoch 8/100\n",
      "13/13 [==============================] - 1s 75ms/step - loss: 0.6853 - accuracy: 0.5772 - val_loss: 0.6885 - val_accuracy: 0.5609\n",
      "Epoch 9/100\n",
      "13/13 [==============================] - 1s 73ms/step - loss: 0.6845 - accuracy: 0.5808 - val_loss: 0.6884 - val_accuracy: 0.5609\n",
      "Epoch 10/100\n",
      "13/13 [==============================] - 1s 73ms/step - loss: 0.6861 - accuracy: 0.5608 - val_loss: 0.6829 - val_accuracy: 0.5609\n",
      "Epoch 11/100\n",
      "13/13 [==============================] - 1s 73ms/step - loss: 0.6810 - accuracy: 0.5893 - val_loss: 0.6887 - val_accuracy: 0.5609\n",
      "Epoch 12/100\n",
      "13/13 [==============================] - 1s 73ms/step - loss: 0.6880 - accuracy: 0.5614 - val_loss: 0.6903 - val_accuracy: 0.5609\n",
      "Epoch 13/100\n",
      "13/13 [==============================] - 1s 74ms/step - loss: 0.6870 - accuracy: 0.5838 - val_loss: 0.6893 - val_accuracy: 0.5609\n",
      "Epoch 14/100\n",
      "13/13 [==============================] - 1s 74ms/step - loss: 0.6794 - accuracy: 0.5802 - val_loss: 0.6881 - val_accuracy: 0.5609\n",
      "Epoch 15/100\n",
      "13/13 [==============================] - 1s 75ms/step - loss: 0.6816 - accuracy: 0.5869 - val_loss: 0.6918 - val_accuracy: 0.5609\n",
      "Epoch 16/100\n",
      "13/13 [==============================] - 1s 74ms/step - loss: 0.6841 - accuracy: 0.5772 - val_loss: 0.6878 - val_accuracy: 0.5609\n",
      "Epoch 17/100\n",
      "13/13 [==============================] - 1s 73ms/step - loss: 0.6843 - accuracy: 0.5844 - val_loss: 0.6906 - val_accuracy: 0.5609\n",
      "Epoch 18/100\n",
      "13/13 [==============================] - 1s 74ms/step - loss: 0.6811 - accuracy: 0.5784 - val_loss: 0.6880 - val_accuracy: 0.5609\n",
      "Epoch 19/100\n",
      "13/13 [==============================] - 1s 74ms/step - loss: 0.6842 - accuracy: 0.5741 - val_loss: 0.6889 - val_accuracy: 0.5609\n",
      "Epoch 20/100\n",
      "13/13 [==============================] - 1s 99ms/step - loss: 0.6865 - accuracy: 0.5826 - val_loss: 0.6910 - val_accuracy: 0.5609\n",
      "Epoch 21/100\n",
      "13/13 [==============================] - 1s 82ms/step - loss: 0.6828 - accuracy: 0.5838 - val_loss: 0.6868 - val_accuracy: 0.5609\n",
      "Epoch 22/100\n",
      "13/13 [==============================] - 1s 75ms/step - loss: 0.6826 - accuracy: 0.5838 - val_loss: 0.6890 - val_accuracy: 0.5609\n",
      "Epoch 23/100\n",
      "13/13 [==============================] - 1s 77ms/step - loss: 0.6824 - accuracy: 0.5784 - val_loss: 0.6890 - val_accuracy: 0.5609\n",
      "Epoch 24/100\n",
      "13/13 [==============================] - 1s 74ms/step - loss: 0.6814 - accuracy: 0.5802 - val_loss: 0.6886 - val_accuracy: 0.5609\n",
      "Epoch 25/100\n",
      "13/13 [==============================] - 1s 74ms/step - loss: 0.6815 - accuracy: 0.5832 - val_loss: 0.6884 - val_accuracy: 0.5609\n",
      "Epoch 26/100\n",
      "13/13 [==============================] - 1s 74ms/step - loss: 0.6839 - accuracy: 0.5844 - val_loss: 0.6901 - val_accuracy: 0.5609\n",
      "Epoch 27/100\n",
      "13/13 [==============================] - 1s 74ms/step - loss: 0.6803 - accuracy: 0.5857 - val_loss: 0.6864 - val_accuracy: 0.5609\n",
      "Epoch 28/100\n",
      "13/13 [==============================] - 1s 74ms/step - loss: 0.6794 - accuracy: 0.5851 - val_loss: 0.6883 - val_accuracy: 0.5609\n",
      "Epoch 29/100\n",
      "13/13 [==============================] - 1s 74ms/step - loss: 0.6788 - accuracy: 0.5863 - val_loss: 0.6886 - val_accuracy: 0.5609\n",
      "Epoch 30/100\n",
      "13/13 [==============================] - 1s 74ms/step - loss: 0.6851 - accuracy: 0.5820 - val_loss: 0.6872 - val_accuracy: 0.5609\n",
      "Epoch 31/100\n",
      "13/13 [==============================] - 1s 74ms/step - loss: 0.6783 - accuracy: 0.5863 - val_loss: 0.6896 - val_accuracy: 0.5609\n",
      "Epoch 32/100\n",
      "13/13 [==============================] - 1s 74ms/step - loss: 0.6806 - accuracy: 0.5838 - val_loss: 0.6899 - val_accuracy: 0.5609\n",
      "Epoch 33/100\n",
      "13/13 [==============================] - 1s 74ms/step - loss: 0.6813 - accuracy: 0.5851 - val_loss: 0.6876 - val_accuracy: 0.5609\n",
      "Epoch 34/100\n",
      "13/13 [==============================] - 1s 75ms/step - loss: 0.6827 - accuracy: 0.5869 - val_loss: 0.6881 - val_accuracy: 0.5609\n",
      "Epoch 35/100\n",
      "13/13 [==============================] - 1s 73ms/step - loss: 0.6823 - accuracy: 0.5857 - val_loss: 0.6905 - val_accuracy: 0.5609\n",
      "Epoch 36/100\n",
      "13/13 [==============================] - 1s 73ms/step - loss: 0.6816 - accuracy: 0.5863 - val_loss: 0.6869 - val_accuracy: 0.5609\n",
      "Epoch 37/100\n",
      "13/13 [==============================] - 1s 73ms/step - loss: 0.6822 - accuracy: 0.5838 - val_loss: 0.6884 - val_accuracy: 0.5609\n",
      "Epoch 38/100\n",
      "13/13 [==============================] - 1s 73ms/step - loss: 0.6821 - accuracy: 0.5863 - val_loss: 0.6891 - val_accuracy: 0.5609\n",
      "Epoch 39/100\n",
      "13/13 [==============================] - 1s 73ms/step - loss: 0.6817 - accuracy: 0.5863 - val_loss: 0.6869 - val_accuracy: 0.5609\n",
      "Epoch 40/100\n",
      "13/13 [==============================] - 1s 74ms/step - loss: 0.6797 - accuracy: 0.5863 - val_loss: 0.6884 - val_accuracy: 0.5609\n",
      "Epoch 41/100\n",
      "13/13 [==============================] - 1s 74ms/step - loss: 0.6805 - accuracy: 0.5863 - val_loss: 0.6879 - val_accuracy: 0.5609\n",
      "Epoch 42/100\n",
      "13/13 [==============================] - 1s 74ms/step - loss: 0.6780 - accuracy: 0.5863 - val_loss: 0.6880 - val_accuracy: 0.5609\n",
      "Epoch 43/100\n",
      "13/13 [==============================] - 1s 74ms/step - loss: 0.6817 - accuracy: 0.5863 - val_loss: 0.6890 - val_accuracy: 0.5609\n",
      "Epoch 44/100\n",
      "13/13 [==============================] - 1s 73ms/step - loss: 0.6772 - accuracy: 0.5863 - val_loss: 0.6883 - val_accuracy: 0.5609\n",
      "Epoch 45/100\n",
      "13/13 [==============================] - 1s 74ms/step - loss: 0.6823 - accuracy: 0.5863 - val_loss: 0.6870 - val_accuracy: 0.5609\n",
      "Epoch 46/100\n",
      "13/13 [==============================] - 1s 73ms/step - loss: 0.6787 - accuracy: 0.5832 - val_loss: 0.6871 - val_accuracy: 0.5609\n",
      "Epoch 47/100\n",
      "13/13 [==============================] - 1s 73ms/step - loss: 0.6817 - accuracy: 0.5863 - val_loss: 0.6889 - val_accuracy: 0.5609\n",
      "Epoch 48/100\n",
      "13/13 [==============================] - 1s 74ms/step - loss: 0.6793 - accuracy: 0.5875 - val_loss: 0.6828 - val_accuracy: 0.5609\n",
      "Epoch 49/100\n",
      "13/13 [==============================] - 1s 74ms/step - loss: 0.6723 - accuracy: 0.5844 - val_loss: 0.6817 - val_accuracy: 0.5609\n",
      "Epoch 50/100\n",
      "13/13 [==============================] - 1s 74ms/step - loss: 0.6721 - accuracy: 0.5869 - val_loss: 0.6902 - val_accuracy: 0.5609\n",
      "Epoch 51/100\n",
      "13/13 [==============================] - 1s 74ms/step - loss: 0.6785 - accuracy: 0.5863 - val_loss: 0.6873 - val_accuracy: 0.5609\n",
      "Epoch 52/100\n",
      "13/13 [==============================] - 1s 74ms/step - loss: 0.6807 - accuracy: 0.5863 - val_loss: 0.6874 - val_accuracy: 0.5609\n",
      "Epoch 53/100\n",
      "13/13 [==============================] - 1s 74ms/step - loss: 0.6820 - accuracy: 0.5863 - val_loss: 0.6904 - val_accuracy: 0.5609\n",
      "Epoch 54/100\n",
      "13/13 [==============================] - 1s 73ms/step - loss: 0.6808 - accuracy: 0.5857 - val_loss: 0.6871 - val_accuracy: 0.5609\n",
      "Epoch 55/100\n",
      "13/13 [==============================] - 1s 74ms/step - loss: 0.6811 - accuracy: 0.5844 - val_loss: 0.6875 - val_accuracy: 0.5609\n",
      "Epoch 56/100\n",
      "13/13 [==============================] - 1s 74ms/step - loss: 0.6791 - accuracy: 0.5863 - val_loss: 0.6885 - val_accuracy: 0.5609\n",
      "Epoch 57/100\n",
      "13/13 [==============================] - 1s 78ms/step - loss: 0.6807 - accuracy: 0.5863 - val_loss: 0.6862 - val_accuracy: 0.5609\n",
      "Epoch 58/100\n",
      "13/13 [==============================] - 1s 92ms/step - loss: 0.6798 - accuracy: 0.5863 - val_loss: 0.6888 - val_accuracy: 0.5609\n",
      "Epoch 59/100\n",
      "13/13 [==============================] - 1s 83ms/step - loss: 0.6801 - accuracy: 0.5863 - val_loss: 0.6895 - val_accuracy: 0.5609\n",
      "Epoch 60/100\n",
      "13/13 [==============================] - 1s 91ms/step - loss: 0.6800 - accuracy: 0.5863 - val_loss: 0.6868 - val_accuracy: 0.5609\n",
      "Epoch 61/100\n",
      "13/13 [==============================] - 1s 79ms/step - loss: 0.6802 - accuracy: 0.5863 - val_loss: 0.6890 - val_accuracy: 0.5609\n",
      "Epoch 62/100\n",
      "13/13 [==============================] - 1s 75ms/step - loss: 0.6806 - accuracy: 0.5863 - val_loss: 0.6879 - val_accuracy: 0.5609\n",
      "Epoch 63/100\n",
      "13/13 [==============================] - 1s 75ms/step - loss: 0.6780 - accuracy: 0.5863 - val_loss: 0.6883 - val_accuracy: 0.5609\n",
      "Epoch 64/100\n",
      "13/13 [==============================] - 1s 76ms/step - loss: 0.6798 - accuracy: 0.5844 - val_loss: 0.6877 - val_accuracy: 0.5609\n",
      "Epoch 65/100\n",
      "13/13 [==============================] - 1s 75ms/step - loss: 0.6790 - accuracy: 0.5863 - val_loss: 0.6895 - val_accuracy: 0.5609\n",
      "Epoch 66/100\n",
      "13/13 [==============================] - 1s 75ms/step - loss: 0.6798 - accuracy: 0.5863 - val_loss: 0.6866 - val_accuracy: 0.5609\n",
      "Epoch 67/100\n",
      "13/13 [==============================] - 1s 76ms/step - loss: 0.6801 - accuracy: 0.5893 - val_loss: 0.6870 - val_accuracy: 0.5609\n",
      "Epoch 68/100\n",
      "13/13 [==============================] - 1s 76ms/step - loss: 0.6804 - accuracy: 0.5844 - val_loss: 0.6911 - val_accuracy: 0.5609\n",
      "Epoch 69/100\n",
      "13/13 [==============================] - 1s 75ms/step - loss: 0.6808 - accuracy: 0.5863 - val_loss: 0.6884 - val_accuracy: 0.5609\n",
      "Epoch 70/100\n",
      "13/13 [==============================] - 1s 75ms/step - loss: 0.6789 - accuracy: 0.5863 - val_loss: 0.6883 - val_accuracy: 0.5609\n",
      "Epoch 71/100\n",
      "13/13 [==============================] - 1s 75ms/step - loss: 0.6785 - accuracy: 0.5869 - val_loss: 0.6894 - val_accuracy: 0.5609\n",
      "Epoch 72/100\n",
      "13/13 [==============================] - 1s 74ms/step - loss: 0.6809 - accuracy: 0.5808 - val_loss: 0.6888 - val_accuracy: 0.5609\n",
      "Epoch 73/100\n",
      "13/13 [==============================] - 1s 74ms/step - loss: 0.6805 - accuracy: 0.5857 - val_loss: 0.6868 - val_accuracy: 0.5609\n",
      "Epoch 74/100\n",
      "13/13 [==============================] - 1s 74ms/step - loss: 0.6792 - accuracy: 0.5869 - val_loss: 0.6910 - val_accuracy: 0.5609\n",
      "Epoch 75/100\n",
      "13/13 [==============================] - 1s 75ms/step - loss: 0.6821 - accuracy: 0.5863 - val_loss: 0.6879 - val_accuracy: 0.5609\n",
      "Epoch 76/100\n",
      "13/13 [==============================] - 1s 74ms/step - loss: 0.6800 - accuracy: 0.5863 - val_loss: 0.6889 - val_accuracy: 0.5609\n",
      "Epoch 77/100\n",
      "13/13 [==============================] - 1s 77ms/step - loss: 0.6791 - accuracy: 0.5863 - val_loss: 0.6873 - val_accuracy: 0.5609\n",
      "Epoch 78/100\n",
      "13/13 [==============================] - 1s 75ms/step - loss: 0.6805 - accuracy: 0.5863 - val_loss: 0.6901 - val_accuracy: 0.5609\n",
      "Epoch 79/100\n",
      "13/13 [==============================] - 1s 75ms/step - loss: 0.6815 - accuracy: 0.5863 - val_loss: 0.6883 - val_accuracy: 0.5609\n",
      "Epoch 80/100\n",
      "13/13 [==============================] - 1s 74ms/step - loss: 0.6799 - accuracy: 0.5863 - val_loss: 0.6868 - val_accuracy: 0.5609\n",
      "Epoch 81/100\n",
      "13/13 [==============================] - 1s 74ms/step - loss: 0.6785 - accuracy: 0.5863 - val_loss: 0.6881 - val_accuracy: 0.5609\n",
      "Epoch 82/100\n",
      "13/13 [==============================] - 1s 75ms/step - loss: 0.6816 - accuracy: 0.5863 - val_loss: 0.6892 - val_accuracy: 0.5609\n",
      "Epoch 83/100\n",
      "13/13 [==============================] - 1s 76ms/step - loss: 0.6796 - accuracy: 0.5863 - val_loss: 0.6891 - val_accuracy: 0.5609\n",
      "Epoch 84/100\n",
      "13/13 [==============================] - 1s 79ms/step - loss: 0.6816 - accuracy: 0.5863 - val_loss: 0.6903 - val_accuracy: 0.5609\n",
      "Epoch 85/100\n",
      "13/13 [==============================] - 1s 75ms/step - loss: 0.6783 - accuracy: 0.5851 - val_loss: 0.6860 - val_accuracy: 0.5609\n",
      "Epoch 86/100\n",
      "13/13 [==============================] - 1s 77ms/step - loss: 0.6829 - accuracy: 0.5844 - val_loss: 0.6904 - val_accuracy: 0.5609\n",
      "Epoch 87/100\n",
      "13/13 [==============================] - 1s 77ms/step - loss: 0.6808 - accuracy: 0.5863 - val_loss: 0.6888 - val_accuracy: 0.5609\n",
      "Epoch 88/100\n",
      "13/13 [==============================] - 1s 78ms/step - loss: 0.6787 - accuracy: 0.5863 - val_loss: 0.6874 - val_accuracy: 0.5609\n",
      "Epoch 89/100\n",
      "13/13 [==============================] - 1s 78ms/step - loss: 0.6812 - accuracy: 0.5863 - val_loss: 0.6883 - val_accuracy: 0.5609\n",
      "Epoch 90/100\n",
      "13/13 [==============================] - 1s 78ms/step - loss: 0.6800 - accuracy: 0.5863 - val_loss: 0.6885 - val_accuracy: 0.5609\n",
      "Epoch 91/100\n",
      "13/13 [==============================] - 1s 76ms/step - loss: 0.6777 - accuracy: 0.5863 - val_loss: 0.6876 - val_accuracy: 0.5609\n",
      "Epoch 92/100\n",
      "13/13 [==============================] - 1s 76ms/step - loss: 0.6783 - accuracy: 0.5863 - val_loss: 0.6883 - val_accuracy: 0.5609\n",
      "Epoch 93/100\n",
      "13/13 [==============================] - 1s 76ms/step - loss: 0.6806 - accuracy: 0.5863 - val_loss: 0.6873 - val_accuracy: 0.5609\n",
      "Epoch 94/100\n",
      "13/13 [==============================] - 1s 80ms/step - loss: 0.6813 - accuracy: 0.5863 - val_loss: 0.6889 - val_accuracy: 0.5609\n",
      "Epoch 95/100\n",
      "13/13 [==============================] - 1s 82ms/step - loss: 0.6797 - accuracy: 0.5863 - val_loss: 0.6866 - val_accuracy: 0.5609\n",
      "Epoch 96/100\n",
      "13/13 [==============================] - 1s 85ms/step - loss: 0.6787 - accuracy: 0.5863 - val_loss: 0.6872 - val_accuracy: 0.5609\n",
      "Epoch 97/100\n",
      "13/13 [==============================] - 1s 80ms/step - loss: 0.6821 - accuracy: 0.5863 - val_loss: 0.6884 - val_accuracy: 0.5609\n",
      "Epoch 98/100\n",
      "13/13 [==============================] - 1s 77ms/step - loss: 0.6777 - accuracy: 0.5863 - val_loss: 0.6865 - val_accuracy: 0.5609\n",
      "Epoch 99/100\n",
      "13/13 [==============================] - 1s 75ms/step - loss: 0.6796 - accuracy: 0.5863 - val_loss: 0.6878 - val_accuracy: 0.5609\n",
      "Epoch 100/100\n",
      "13/13 [==============================] - 1s 76ms/step - loss: 0.6802 - accuracy: 0.5863 - val_loss: 0.6883 - val_accuracy: 0.5609\n",
      "23/23 [==============================] - 0s 15ms/step\n",
      "Accuracy on validation set: 56.09065155807366 %\n"
     ]
    }
   ],
   "source": [
    "# compiling the model\n",
    "\n",
    "# defining loss as binary crossentropy\n",
    "# defining optimizer as Adam\n",
    "# defining metrics as accuracy\n",
    "\n",
    "model.compile(loss='binary_crossentropy', optimizer=Adam(), metrics=['accuracy'])\n",
    "\n",
    "## 6. Training the model using Dropout\n",
    "# training the model for 100 epochs\n",
    "\n",
    "model_history = model.fit(X_train, y_train, epochs=100, batch_size=128,validation_data=(X_valid,y_valid))\n",
    "\n",
    "## 7. Evaluating model performance \n",
    "# accuracy on validation set\n",
    "# Corrected code:\n",
    "predictions = model.predict(X_valid)\n",
    "predictions_classes = (predictions > 0.5).astype(int)  # Convert probabilities to binary class labels\n",
    "print('Accuracy on validation set:', accuracy_score(y_valid, predictions_classes) * 100, '%')\n"
   ]
  },
  {
   "cell_type": "code",
   "execution_count": null,
   "id": "996ae86d-2dff-49b3-a0f3-ca9050ff2ea2",
   "metadata": {},
   "outputs": [],
   "source": []
  }
 ],
 "metadata": {
  "kernelspec": {
   "display_name": "Python 3 (ipykernel)",
   "language": "python",
   "name": "python3"
  },
  "language_info": {
   "codemirror_mode": {
    "name": "ipython",
    "version": 3
   },
   "file_extension": ".py",
   "mimetype": "text/x-python",
   "name": "python",
   "nbconvert_exporter": "python",
   "pygments_lexer": "ipython3",
   "version": "3.10.13"
  }
 },
 "nbformat": 4,
 "nbformat_minor": 5
}
