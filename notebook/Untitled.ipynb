{
 "cells": [
  {
   "cell_type": "code",
   "execution_count": 1,
   "id": "cd334535-3f93-4f99-a4b0-1ec4696b3ac1",
   "metadata": {},
   "outputs": [],
   "source": [
    "### 1. Importing Libraries and Data preprocessing\n",
    "# import necessary libraries\n",
    "import numpy as np\n",
    "import pandas as pd\n",
    "import matplotlib.pyplot as plt"
   ]
  },
  {
   "cell_type": "code",
   "execution_count": 2,
   "id": "836525b6-4f63-48b3-9c7c-9919b86ee1c2",
   "metadata": {},
   "outputs": [
    {
     "name": "stdout",
     "output_type": "stream",
     "text": [
      "  image_names  emergency_or_not\n",
      "0       0.jpg                 1\n",
      "1       1.jpg                 1\n",
      "2       2.jpg                 1\n",
      "3       3.jpg                 1\n",
      "4       4.jpg                 1\n"
     ]
    }
   ],
   "source": [
    "from tqdm import tqdm\n",
    "\n",
    "from sklearn.model_selection import train_test_split\n",
    "from sklearn.metrics import accuracy_score\n",
    "\n",
    "\n",
    "# set seed\n",
    "seed = 42\n",
    "\n",
    "# load csv file\n",
    "data = pd.read_csv('../data/Dataset/emergency_classification.csv')\n",
    "\n",
    "print(data.head())"
   ]
  },
  {
   "cell_type": "code",
   "execution_count": 4,
   "id": "122902a4-2955-4341-b9e2-09dbbc56de35",
   "metadata": {},
   "outputs": [],
   "source": [
    "# load images and store it in numpy array\n",
    "\n",
    "# empty list to store the images\n",
    "X = []\n",
    "# iterating over each image\n",
    "for img_name in data.image_names:\n",
    "    # loading the image using its name\n",
    "    img = plt.imread('../data/Dataset/images/' + img_name)\n",
    "    # normalizing the pixel values\n",
    "    img = img/255\n",
    "    # saving each image in the list\n",
    "    X.append(img)\n",
    "    \n"
   ]
  },
  {
   "cell_type": "code",
   "execution_count": 5,
   "id": "d78127ea-2dae-42d8-a0ca-ceca7414a5ca",
   "metadata": {},
   "outputs": [
    {
     "name": "stdout",
     "output_type": "stream",
     "text": [
      "X_train: (1646, 224, 224, 3) X_valid: (706, 224, 224, 3)\n",
      "y_train: (1646,) y_valid: (706,)\n"
     ]
    }
   ],
   "source": [
    "# converting the list of images into array\n",
    "X=np.array(X)\n",
    "\n",
    "# storing the target variable in separate variable\n",
    "y = data.emergency_or_not.values\n",
    "\n",
    "# creating a training and validation set\n",
    "X_train, X_valid, y_train, y_valid=train_test_split(X,y,test_size=0.3, random_state=seed)\n",
    "\n",
    "print(\"X_train:\", X_train.shape, \"X_valid:\", X_valid.shape)\n",
    "print(\"y_train:\", y_train.shape, \"y_valid:\", y_valid.shape)\n"
   ]
  },
  {
   "cell_type": "code",
   "execution_count": 6,
   "id": "163ae6ee-4c67-4d44-afab-48a01b88b96c",
   "metadata": {},
   "outputs": [
    {
     "name": "stderr",
     "output_type": "stream",
     "text": [
      "WARNING:absl:At this time, the v2.11+ optimizer `tf.keras.optimizers.Adam` runs slowly on M1/M2 Macs, please use the legacy Keras optimizer instead, located at `tf.keras.optimizers.legacy.Adam`.\n",
      "2024-02-04 18:18:10.316196: I metal_plugin/src/device/metal_device.cc:1154] Metal device set to: Apple M1\n",
      "2024-02-04 18:18:10.316233: I metal_plugin/src/device/metal_device.cc:296] systemMemory: 16.00 GB\n",
      "2024-02-04 18:18:10.316248: I metal_plugin/src/device/metal_device.cc:313] maxCacheSize: 5.33 GB\n",
      "2024-02-04 18:18:10.316447: I tensorflow/core/common_runtime/pluggable_device/pluggable_device_factory.cc:306] Could not identify NUMA node of platform GPU ID 0, defaulting to 0. Your kernel may not have been built with NUMA support.\n",
      "2024-02-04 18:18:10.316735: I tensorflow/core/common_runtime/pluggable_device/pluggable_device_factory.cc:272] Created TensorFlow device (/job:localhost/replica:0/task:0/device:GPU:0 with 0 MB memory) -> physical PluggableDevice (device: 0, name: METAL, pci bus id: <undefined>)\n"
     ]
    }
   ],
   "source": [
    "## Image Augmentation using Keras (ImageDataGenerator)\n",
    "from keras.preprocessing.image import ImageDataGenerator\n",
    "image_augmentation = ImageDataGenerator(rotation_range=30, width_shift_range=40, height_shift_range=40, \n",
    "                              horizontal_flip=True, vertical_flip=True, fill_mode=\"nearest\")\n",
    "\n",
    "\n",
    "image_augmentation.fit(X_train)\n",
    "\n",
    " ### 2. Model Building\n",
    "# importing functions from keras to define the neural network architecture\n",
    "from keras.layers import Dense, InputLayer, Dropout, BatchNormalization, Flatten\n",
    "from keras.models import Sequential\n",
    "# importing adam optimizer from keras optimizer module \n",
    "from keras.optimizers import Adam\n",
    "\n",
    "# defining the adam optimizer and setting the learning rate as 10^-5\n",
    "adam = Adam(learning_rate=1e-5)\n"
   ]
  },
  {
   "cell_type": "code",
   "execution_count": 7,
   "id": "01610868-2323-422f-820e-936f105b1f32",
   "metadata": {},
   "outputs": [],
   "source": [
    "# defining and compiling the model architecture\n",
    "model=Sequential()\n",
    "model.add(InputLayer(input_shape=(224,224,3)))\n",
    "model.add(Flatten())\n",
    "model.add(Dense(100, activation='sigmoid'))\n",
    "model.add(BatchNormalization())\n",
    "model.add(Dropout(rate=0.5))\n",
    "model.add(Dense(100, activation='sigmoid'))\n",
    "model.add(BatchNormalization())\n",
    "model.add(Dropout(rate=0.5))\n",
    "model.add(Dense(units=1, activation='sigmoid'))\n",
    "\n",
    "model.compile(loss='binary_crossentropy', optimizer=adam, metrics=['accuracy'])\n",
    "\n"
   ]
  },
  {
   "cell_type": "code",
   "execution_count": null,
   "id": "d5d8f88e-d03b-43a1-a43a-936e6cfd6569",
   "metadata": {},
   "outputs": [],
   "source": []
  }
 ],
 "metadata": {
  "kernelspec": {
   "display_name": "Python 3 (ipykernel)",
   "language": "python",
   "name": "python3"
  },
  "language_info": {
   "codemirror_mode": {
    "name": "ipython",
    "version": 3
   },
   "file_extension": ".py",
   "mimetype": "text/x-python",
   "name": "python",
   "nbconvert_exporter": "python",
   "pygments_lexer": "ipython3",
   "version": "3.10.13"
  }
 },
 "nbformat": 4,
 "nbformat_minor": 5
}
