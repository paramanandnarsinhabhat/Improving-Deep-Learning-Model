{
 "cells": [
  {
   "cell_type": "code",
   "execution_count": 1,
   "id": "cd334535-3f93-4f99-a4b0-1ec4696b3ac1",
   "metadata": {},
   "outputs": [],
   "source": [
    "### 1. Importing Libraries and Data preprocessing\n",
    "# import necessary libraries\n",
    "import numpy as np\n",
    "import pandas as pd\n",
    "import matplotlib.pyplot as plt"
   ]
  },
  {
   "cell_type": "code",
   "execution_count": 5,
   "id": "836525b6-4f63-48b3-9c7c-9919b86ee1c2",
   "metadata": {},
   "outputs": [
    {
     "name": "stdout",
     "output_type": "stream",
     "text": [
      "  image_names  emergency_or_not\n",
      "0       0.jpg                 1\n",
      "1       1.jpg                 1\n",
      "2       2.jpg                 1\n",
      "3       3.jpg                 1\n",
      "4       4.jpg                 1\n"
     ]
    }
   ],
   "source": [
    "from tqdm import tqdm\n",
    "\n",
    "from sklearn.model_selection import train_test_split\n",
    "from sklearn.metrics import accuracy_score\n",
    "\n",
    "\n",
    "# set seed\n",
    "seed = 42\n",
    "\n",
    "# load csv file\n",
    "data = pd.read_csv('data/Dataset/emergency_classification.csv')\n",
    "\n",
    "print(data.head())"
   ]
  },
  {
   "cell_type": "code",
   "execution_count": 9,
   "id": "122902a4-2955-4341-b9e2-09dbbc56de35",
   "metadata": {},
   "outputs": [],
   "source": [
    "# load images and store it in numpy array\n",
    "\n",
    "# empty list to store the images\n",
    "X = []\n",
    "# iterating over each image\n",
    "for img_name in data.image_names:\n",
    "    # loading the image using its name\n",
    "    img = plt.imread('data/Dataset/images/' + img_name)\n",
    "    # normalizing the pixel values\n",
    "    img = img/255\n",
    "    # saving each image in the list\n",
    "    X.append(img)\n",
    "    \n"
   ]
  },
  {
   "cell_type": "code",
   "execution_count": 10,
   "id": "d78127ea-2dae-42d8-a0ca-ceca7414a5ca",
   "metadata": {},
   "outputs": [
    {
     "name": "stdout",
     "output_type": "stream",
     "text": [
      "X_train: (1646, 224, 224, 3) X_valid: (706, 224, 224, 3)\n",
      "y_train: (1646,) y_valid: (706,)\n"
     ]
    }
   ],
   "source": [
    "# converting the list of images into array\n",
    "X=np.array(X)\n",
    "\n",
    "# storing the target variable in separate variable\n",
    "y = data.emergency_or_not.values\n",
    "\n",
    "# creating a training and validation set\n",
    "X_train, X_valid, y_train, y_valid=train_test_split(X,y,test_size=0.3, random_state=seed)\n",
    "\n",
    "print(\"X_train:\", X_train.shape, \"X_valid:\", X_valid.shape)\n",
    "print(\"y_train:\", y_train.shape, \"y_valid:\", y_valid.shape)\n"
   ]
  },
  {
   "cell_type": "code",
   "execution_count": 11,
   "id": "163ae6ee-4c67-4d44-afab-48a01b88b96c",
   "metadata": {},
   "outputs": [
    {
     "name": "stderr",
     "output_type": "stream",
     "text": [
      "WARNING:absl:At this time, the v2.11+ optimizer `tf.keras.optimizers.Adam` runs slowly on M1/M2 Macs, please use the legacy Keras optimizer instead, located at `tf.keras.optimizers.legacy.Adam`.\n",
      "2024-02-04 18:24:17.789540: I metal_plugin/src/device/metal_device.cc:1154] Metal device set to: Apple M1\n",
      "2024-02-04 18:24:17.789628: I metal_plugin/src/device/metal_device.cc:296] systemMemory: 16.00 GB\n",
      "2024-02-04 18:24:17.789647: I metal_plugin/src/device/metal_device.cc:313] maxCacheSize: 5.33 GB\n",
      "2024-02-04 18:24:17.789703: I tensorflow/core/common_runtime/pluggable_device/pluggable_device_factory.cc:306] Could not identify NUMA node of platform GPU ID 0, defaulting to 0. Your kernel may not have been built with NUMA support.\n",
      "2024-02-04 18:24:17.789730: I tensorflow/core/common_runtime/pluggable_device/pluggable_device_factory.cc:272] Created TensorFlow device (/job:localhost/replica:0/task:0/device:GPU:0 with 0 MB memory) -> physical PluggableDevice (device: 0, name: METAL, pci bus id: <undefined>)\n"
     ]
    }
   ],
   "source": [
    "## Image Augmentation using Keras (ImageDataGenerator)\n",
    "from keras.preprocessing.image import ImageDataGenerator\n",
    "image_augmentation = ImageDataGenerator(rotation_range=30, width_shift_range=40, height_shift_range=40, \n",
    "                              horizontal_flip=True, vertical_flip=True, fill_mode=\"nearest\")\n",
    "\n",
    "\n",
    "image_augmentation.fit(X_train)\n",
    "\n",
    " ### 2. Model Building\n",
    "# importing functions from keras to define the neural network architecture\n",
    "from keras.layers import Dense, InputLayer, Dropout, BatchNormalization, Flatten\n",
    "from keras.models import Sequential\n",
    "# importing adam optimizer from keras optimizer module \n",
    "from keras.optimizers import Adam\n",
    "\n",
    "# defining the adam optimizer and setting the learning rate as 10^-5\n",
    "adam = Adam(learning_rate=1e-5)\n"
   ]
  },
  {
   "cell_type": "code",
   "execution_count": 13,
   "id": "01610868-2323-422f-820e-936f105b1f32",
   "metadata": {},
   "outputs": [],
   "source": [
    "# defining and compiling the model architecture\n",
    "model=Sequential()\n",
    "model.add(InputLayer(input_shape=(224,224,3)))\n",
    "model.add(Flatten())\n",
    "model.add(Dense(100, activation='sigmoid'))\n",
    "model.add(BatchNormalization())\n",
    "model.add(Dropout(rate=0.5))\n",
    "model.add(Dense(100, activation='sigmoid'))\n",
    "model.add(BatchNormalization())\n",
    "model.add(Dropout(rate=0.5))\n",
    "model.add(Dense(units=1, activation='sigmoid'))\n",
    "\n",
    "model.compile(loss='binary_crossentropy', optimizer=adam, metrics=['accuracy'])\n",
    "\n"
   ]
  },
  {
   "cell_type": "code",
   "execution_count": 14,
   "id": "d5d8f88e-d03b-43a1-a43a-936e6cfd6569",
   "metadata": {},
   "outputs": [
    {
     "name": "stderr",
     "output_type": "stream",
     "text": [
      "/var/folders/c7/xx2r_j1j5jnchz6414lhvm3h0000gn/T/ipykernel_33239/2610531924.py:2: UserWarning: `Model.fit_generator` is deprecated and will be removed in a future version. Please use `Model.fit`, which supports generators.\n",
      "  model_history = model.fit_generator(image_augmentation.flow(X_train, y_train, batch_size=128), validation_data=(X_valid, y_valid), epochs=50)\n"
     ]
    },
    {
     "name": "stdout",
     "output_type": "stream",
     "text": [
      "Epoch 1/50\n"
     ]
    },
    {
     "name": "stderr",
     "output_type": "stream",
     "text": [
      "2024-02-04 18:25:24.035217: I tensorflow/core/grappler/optimizers/custom_graph_optimizer_registry.cc:117] Plugin optimizer for device_type GPU is enabled.\n",
      "2024-02-04 18:25:24.172301: E tensorflow/core/grappler/optimizers/meta_optimizer.cc:961] model_pruner failed: INVALID_ARGUMENT: Graph does not contain terminal node Adam/AssignAddVariableOp.\n"
     ]
    },
    {
     "name": "stdout",
     "output_type": "stream",
     "text": [
      "13/13 [==============================] - 29s 2s/step - loss: 1.0145 - accuracy: 0.5352 - val_loss: 0.7143 - val_accuracy: 0.4391\n",
      "Epoch 2/50\n",
      "13/13 [==============================] - 25s 2s/step - loss: 0.9065 - accuracy: 0.5529 - val_loss: 0.7048 - val_accuracy: 0.4391\n",
      "Epoch 3/50\n",
      "13/13 [==============================] - 26s 2s/step - loss: 0.8638 - accuracy: 0.5450 - val_loss: 0.7042 - val_accuracy: 0.4391\n",
      "Epoch 4/50\n",
      "13/13 [==============================] - 19s 1s/step - loss: 0.8355 - accuracy: 0.5729 - val_loss: 0.6980 - val_accuracy: 0.4391\n",
      "Epoch 5/50\n",
      "13/13 [==============================] - 17s 1s/step - loss: 0.7961 - accuracy: 0.5893 - val_loss: 0.6936 - val_accuracy: 0.4561\n",
      "Epoch 6/50\n",
      "13/13 [==============================] - 18s 1s/step - loss: 0.8289 - accuracy: 0.5656 - val_loss: 0.6896 - val_accuracy: 0.4943\n",
      "Epoch 7/50\n",
      "13/13 [==============================] - 19s 2s/step - loss: 0.8225 - accuracy: 0.5711 - val_loss: 0.6942 - val_accuracy: 0.4646\n",
      "Epoch 8/50\n",
      "13/13 [==============================] - 18s 1s/step - loss: 0.8215 - accuracy: 0.5717 - val_loss: 0.7005 - val_accuracy: 0.4561\n",
      "Epoch 9/50\n",
      "13/13 [==============================] - 17s 1s/step - loss: 0.7735 - accuracy: 0.6015 - val_loss: 0.6945 - val_accuracy: 0.4703\n",
      "Epoch 10/50\n",
      "13/13 [==============================] - 17s 1s/step - loss: 0.7948 - accuracy: 0.5936 - val_loss: 0.6949 - val_accuracy: 0.4788\n",
      "Epoch 11/50\n",
      "13/13 [==============================] - 16s 1s/step - loss: 0.8020 - accuracy: 0.5753 - val_loss: 0.6838 - val_accuracy: 0.5198\n",
      "Epoch 12/50\n",
      "13/13 [==============================] - 15s 1s/step - loss: 0.7930 - accuracy: 0.5729 - val_loss: 0.6885 - val_accuracy: 0.4901\n",
      "Epoch 13/50\n",
      "13/13 [==============================] - 15s 1s/step - loss: 0.8021 - accuracy: 0.5656 - val_loss: 0.7107 - val_accuracy: 0.4589\n",
      "Epoch 14/50\n",
      "13/13 [==============================] - 15s 1s/step - loss: 0.7633 - accuracy: 0.6002 - val_loss: 0.6867 - val_accuracy: 0.5496\n",
      "Epoch 15/50\n",
      "13/13 [==============================] - 14s 1s/step - loss: 0.7689 - accuracy: 0.5759 - val_loss: 0.6830 - val_accuracy: 0.5312\n",
      "Epoch 16/50\n",
      "13/13 [==============================] - 15s 1s/step - loss: 0.7707 - accuracy: 0.5851 - val_loss: 0.6773 - val_accuracy: 0.5524\n",
      "Epoch 17/50\n",
      "13/13 [==============================] - 15s 1s/step - loss: 0.7431 - accuracy: 0.5978 - val_loss: 0.6962 - val_accuracy: 0.5042\n",
      "Epoch 18/50\n",
      "13/13 [==============================] - 17s 1s/step - loss: 0.7681 - accuracy: 0.5893 - val_loss: 0.7392 - val_accuracy: 0.4632\n",
      "Epoch 19/50\n",
      "13/13 [==============================] - 17s 1s/step - loss: 0.7521 - accuracy: 0.5875 - val_loss: 0.6923 - val_accuracy: 0.5283\n",
      "Epoch 20/50\n",
      "13/13 [==============================] - 17s 1s/step - loss: 0.7766 - accuracy: 0.5741 - val_loss: 0.6705 - val_accuracy: 0.5878\n",
      "Epoch 21/50\n",
      "13/13 [==============================] - 17s 1s/step - loss: 0.7516 - accuracy: 0.5972 - val_loss: 0.6579 - val_accuracy: 0.5949\n",
      "Epoch 22/50\n",
      "13/13 [==============================] - 16s 1s/step - loss: 0.7516 - accuracy: 0.6021 - val_loss: 0.6453 - val_accuracy: 0.6161\n",
      "Epoch 23/50\n",
      "13/13 [==============================] - 17s 1s/step - loss: 0.7462 - accuracy: 0.5972 - val_loss: 0.6695 - val_accuracy: 0.5949\n",
      "Epoch 24/50\n",
      "13/13 [==============================] - 16s 1s/step - loss: 0.7438 - accuracy: 0.5844 - val_loss: 0.6749 - val_accuracy: 0.5907\n",
      "Epoch 25/50\n",
      "13/13 [==============================] - 16s 1s/step - loss: 0.7442 - accuracy: 0.5966 - val_loss: 0.6413 - val_accuracy: 0.6119\n",
      "Epoch 26/50\n",
      "13/13 [==============================] - 17s 1s/step - loss: 0.7310 - accuracy: 0.6039 - val_loss: 0.6663 - val_accuracy: 0.6105\n",
      "Epoch 27/50\n",
      "13/13 [==============================] - 16s 1s/step - loss: 0.7565 - accuracy: 0.5857 - val_loss: 0.6360 - val_accuracy: 0.6246\n",
      "Epoch 28/50\n",
      "13/13 [==============================] - 17s 1s/step - loss: 0.7397 - accuracy: 0.5911 - val_loss: 0.6352 - val_accuracy: 0.6190\n",
      "Epoch 29/50\n",
      "13/13 [==============================] - 16s 1s/step - loss: 0.7535 - accuracy: 0.5954 - val_loss: 0.6521 - val_accuracy: 0.6161\n",
      "Epoch 30/50\n",
      "13/13 [==============================] - 17s 1s/step - loss: 0.7292 - accuracy: 0.6069 - val_loss: 0.6372 - val_accuracy: 0.6147\n",
      "Epoch 31/50\n",
      "13/13 [==============================] - 17s 1s/step - loss: 0.7492 - accuracy: 0.5796 - val_loss: 0.7309 - val_accuracy: 0.5453\n",
      "Epoch 32/50\n",
      "13/13 [==============================] - 16s 1s/step - loss: 0.7164 - accuracy: 0.5996 - val_loss: 0.6517 - val_accuracy: 0.6218\n",
      "Epoch 33/50\n",
      "13/13 [==============================] - 16s 1s/step - loss: 0.7354 - accuracy: 0.5978 - val_loss: 0.6464 - val_accuracy: 0.6289\n",
      "Epoch 34/50\n",
      "13/13 [==============================] - 17s 1s/step - loss: 0.7358 - accuracy: 0.6033 - val_loss: 0.7814 - val_accuracy: 0.5368\n",
      "Epoch 35/50\n",
      "13/13 [==============================] - 16s 1s/step - loss: 0.7392 - accuracy: 0.5881 - val_loss: 0.7411 - val_accuracy: 0.5637\n",
      "Epoch 36/50\n",
      "13/13 [==============================] - 16s 1s/step - loss: 0.7023 - accuracy: 0.6245 - val_loss: 0.6116 - val_accuracy: 0.6657\n",
      "Epoch 37/50\n",
      "13/13 [==============================] - 17s 1s/step - loss: 0.7299 - accuracy: 0.5893 - val_loss: 0.6113 - val_accuracy: 0.6841\n",
      "Epoch 38/50\n",
      "13/13 [==============================] - 16s 1s/step - loss: 0.7085 - accuracy: 0.6185 - val_loss: 0.6184 - val_accuracy: 0.6530\n",
      "Epoch 39/50\n",
      "13/13 [==============================] - 16s 1s/step - loss: 0.7416 - accuracy: 0.5978 - val_loss: 0.6280 - val_accuracy: 0.6289\n",
      "Epoch 40/50\n",
      "13/13 [==============================] - 17s 1s/step - loss: 0.7393 - accuracy: 0.5948 - val_loss: 0.7633 - val_accuracy: 0.5609\n",
      "Epoch 41/50\n",
      "13/13 [==============================] - 16s 1s/step - loss: 0.7335 - accuracy: 0.6009 - val_loss: 0.6685 - val_accuracy: 0.6105\n",
      "Epoch 42/50\n",
      "13/13 [==============================] - 16s 1s/step - loss: 0.7244 - accuracy: 0.6009 - val_loss: 0.6534 - val_accuracy: 0.6161\n",
      "Epoch 43/50\n",
      "13/13 [==============================] - 17s 1s/step - loss: 0.7106 - accuracy: 0.6039 - val_loss: 0.6837 - val_accuracy: 0.5892\n",
      "Epoch 44/50\n",
      "13/13 [==============================] - 16s 1s/step - loss: 0.7350 - accuracy: 0.6057 - val_loss: 0.6573 - val_accuracy: 0.6303\n",
      "Epoch 45/50\n",
      "13/13 [==============================] - 16s 1s/step - loss: 0.7174 - accuracy: 0.5905 - val_loss: 0.6341 - val_accuracy: 0.6431\n",
      "Epoch 46/50\n",
      "13/13 [==============================] - 16s 1s/step - loss: 0.6794 - accuracy: 0.6367 - val_loss: 0.6131 - val_accuracy: 0.6572\n",
      "Epoch 47/50\n",
      "13/13 [==============================] - 15s 1s/step - loss: 0.7177 - accuracy: 0.6203 - val_loss: 0.6171 - val_accuracy: 0.6501\n",
      "Epoch 48/50\n",
      "13/13 [==============================] - 11s 878ms/step - loss: 0.7236 - accuracy: 0.6075 - val_loss: 0.6466 - val_accuracy: 0.6261\n",
      "Epoch 49/50\n",
      "13/13 [==============================] - 11s 864ms/step - loss: 0.6941 - accuracy: 0.6154 - val_loss: 0.6483 - val_accuracy: 0.6275\n",
      "Epoch 50/50\n",
      "13/13 [==============================] - 11s 868ms/step - loss: 0.7233 - accuracy: 0.6039 - val_loss: 0.6347 - val_accuracy: 0.6374\n"
     ]
    },
    {
     "data": {
      "image/png": "[encoded data removed]",
      "text/plain": [
       "<Figure size 640x480 with 1 Axes>"
      ]
     },
     "metadata": {},
     "output_type": "display_data"
    }
   ],
   "source": [
    "# fits the model on batches with real-time data augmentation:\n",
    "model_history = model.fit_generator(image_augmentation.flow(X_train, y_train, batch_size=128), validation_data=(X_valid, y_valid), epochs=50)\n",
    "\n",
    "# summarize history for loss\n",
    "plt.plot(model_history.history['loss'])\n",
    "plt.plot(model_history.history['val_loss'])\n",
    "plt.title('model loss')\n",
    "plt.ylabel('loss')\n",
    "plt.xlabel('epoch')\n",
    "plt.legend(['train', 'validation'], loc='upper right')\n",
    "plt.show()\n"
   ]
  },
  {
   "cell_type": "code",
   "execution_count": null,
   "id": "4697cd60-2c31-4a6d-b9bc-c8a9bea4af49",
   "metadata": {},
   "outputs": [],
   "source": [
    "# summarize history for accuracy\n",
    "plt.plot(model_history.history['acc'])\n",
    "plt.plot(model_history.history['val_acc'])\n",
    "plt.title('model accuracy')\n",
    "plt.ylabel('accuracy')\n",
    "plt.xlabel('epoch')\n",
    "plt.legend(['train', 'validation'], loc='upper right')\n",
    "plt.show()\n",
    "\n",
    "\n",
    "from sklearn.metrics import accuracy_score\n",
    "\n",
    "# For binary classification, we assume the output layer uses a sigmoid activation function\n",
    "# Predicting probabilities for the training set\n",
    "train_predictions = model.predict(X_train)\n",
    "# Convert probabilities to binary class labels using a threshold of 0.5\n",
    "train_predictions_labels = (train_predictions > 0.5).astype(int)\n",
    "\n",
    "# Calculating training accuracy\n",
    "training_accuracy = accuracy_score(y_train, train_predictions_labels)\n",
    "print('Training Accuracy: ', training_accuracy)\n",
    "\n",
    "# Predicting probabilities for the validation set\n",
    "valid_predictions = model.predict(X_valid)\n",
    "# Convert probabilities to binary class labels using a threshold of 0.5\n",
    "valid_predictions_labels = (valid_predictions > 0.5).astype(int)\n",
    "\n",
    "# Calculating validation accuracy\n",
    "validation_accuracy = accuracy_score(y_valid, valid_predictions_labels)\n",
    "print('\\nValidation Accuracy: ', validation_accuracy)\n",
    "\n"
   ]
  }
 ],
 "metadata": {
  "kernelspec": {
   "display_name": "Python 3 (ipykernel)",
   "language": "python",
   "name": "python3"
  },
  "language_info": {
   "codemirror_mode": {
    "name": "ipython",
    "version": 3
   },
   "file_extension": ".py",
   "mimetype": "text/x-python",
   "name": "python",
   "nbconvert_exporter": "python",
   "pygments_lexer": "ipython3",
   "version": "3.10.13"
  }
 },
 "nbformat": 4,
 "nbformat_minor": 5
}
